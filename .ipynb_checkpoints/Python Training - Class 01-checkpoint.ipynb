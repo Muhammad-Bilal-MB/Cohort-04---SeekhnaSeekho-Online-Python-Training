{
 "cells": [
  {
   "cell_type": "markdown",
   "id": "eb607a1d",
   "metadata": {},
   "source": [
    "# <font color='red'> Cohort 04 - SeekhnaSeekho Online Python Training </font>"
   ]
  },
  {
   "cell_type": "markdown",
   "id": "fb61078e",
   "metadata": {},
   "source": [
    "ctrl + enter (Execute cell and remains in the same cell)"
   ]
  },
  {
   "cell_type": "markdown",
   "id": "440d3d21",
   "metadata": {},
   "source": [
    "shift + enter (Execute cell and moves to the same cell)"
   ]
  },
  {
   "cell_type": "markdown",
   "id": "541dc7ac",
   "metadata": {},
   "source": [
    "shift + tab (Access signature)"
   ]
  },
  {
   "cell_type": "markdown",
   "id": "28692704",
   "metadata": {},
   "source": [
    "## print (Statement or Function, whatever you like)"
   ]
  },
  {
   "cell_type": "code",
   "execution_count": 11,
   "id": "5ae2d32a",
   "metadata": {},
   "outputs": [
    {
     "name": "stdout",
     "output_type": "stream",
     "text": [
      "Bilal *** 567 *** Ali *** ABCD\n"
     ]
    }
   ],
   "source": [
    "print(\"Bilal\"      ,     567 ,      \"Ali\" ,        \"ABCD\", sep=' *** ')"
   ]
  },
  {
   "cell_type": "code",
   "execution_count": 12,
   "id": "9211cf70",
   "metadata": {},
   "outputs": [
    {
     "name": "stdout",
     "output_type": "stream",
     "text": [
      "Bilal 567 Ali ABCD\n"
     ]
    }
   ],
   "source": [
    "print(\"Bilal\" ,  567 , \"Ali\" , \"ABCD\")"
   ]
  },
  {
   "cell_type": "code",
   "execution_count": 15,
   "id": "f6f16a5e",
   "metadata": {},
   "outputs": [
    {
     "name": "stdout",
     "output_type": "stream",
     "text": [
      "Bilal 567 Ali ABCD --- NEW LINE\n",
      "Third Line\n"
     ]
    }
   ],
   "source": [
    "print(\"Bilal\" ,  567 , \"Ali\" , \"ABCD\" , end=' --- ')\n",
    "print('NEW LINE')\n",
    "print('Third Line')"
   ]
  },
  {
   "cell_type": "markdown",
   "id": "3fe1dc2e",
   "metadata": {},
   "source": [
    "## Commenting"
   ]
  },
  {
   "cell_type": "code",
   "execution_count": 1,
   "id": "f177aa7d",
   "metadata": {},
   "outputs": [],
   "source": [
    "# This is a single line comment"
   ]
  },
  {
   "cell_type": "code",
   "execution_count": 2,
   "id": "10e91d42",
   "metadata": {},
   "outputs": [
    {
     "data": {
      "text/plain": [
       "'\\nThis is a comment \\nconsisting of mutltiple lines\\n'"
      ]
     },
     "execution_count": 2,
     "metadata": {},
     "output_type": "execute_result"
    }
   ],
   "source": [
    "\"\"\"\n",
    "This is a comment \n",
    "consisting of mutltiple lines\n",
    "\"\"\""
   ]
  },
  {
   "cell_type": "code",
   "execution_count": 3,
   "id": "28f5d254",
   "metadata": {},
   "outputs": [],
   "source": [
    "a = 5    # variable a is having value of 5"
   ]
  },
  {
   "cell_type": "markdown",
   "id": "192f3332",
   "metadata": {},
   "source": [
    "## DataTypes"
   ]
  },
  {
   "cell_type": "code",
   "execution_count": null,
   "id": "4923ca02",
   "metadata": {},
   "outputs": [],
   "source": [
    "5                # integer -> int      --> Activity: Find range of int\n",
    "10.2             # float or double     --> Activity: Find range of float and double\n",
    "True             # boolean -> bool      \n",
    "\"Bilal\"          # String -> str       --> Activity: Find range of str\n",
    "'b'              # String -> str \n",
    "5e^-15           # Shorthand for exponential form"
   ]
  },
  {
   "cell_type": "markdown",
   "id": "ffedb2bd",
   "metadata": {},
   "source": [
    "Python is an untyped language. \n",
    "\n",
    "Python: a = 5 (a is an integer)                 \n",
    "C++: int a = 5"
   ]
  },
  {
   "cell_type": "markdown",
   "id": "ce04d6e6",
   "metadata": {},
   "source": [
    "## Variable and Naming Conventions"
   ]
  },
  {
   "cell_type": "code",
   "execution_count": 1,
   "id": "287e41eb",
   "metadata": {},
   "outputs": [
    {
     "name": "stdout",
     "output_type": "stream",
     "text": [
      "Bilal\n"
     ]
    }
   ],
   "source": [
    "var = \"Bilal\"\n",
    "\n",
    "first_name = \"Muhammad\"\n",
    "last_name = \"Bilal\"\n",
    "\n",
    "firstNameAndLastName = \"Muhammad\"\n",
    "lastName = \"Bilal\"\n",
    "\n",
    "print(var)"
   ]
  },
  {
   "cell_type": "markdown",
   "id": "2bcebc93",
   "metadata": {},
   "source": [
    "## What or what cannot be a variable name?"
   ]
  },
  {
   "cell_type": "code",
   "execution_count": null,
   "id": "1659c8ce",
   "metadata": {},
   "outputs": [],
   "source": [
    "1var (a variable name cannot start with a number)\n",
    "_var (possible)\n",
    "&var (not possible)"
   ]
  },
  {
   "cell_type": "markdown",
   "id": "b665139c",
   "metadata": {},
   "source": [
    "## Code Snippet and Task"
   ]
  },
  {
   "cell_type": "code",
   "execution_count": null,
   "id": "e199b4b8",
   "metadata": {},
   "outputs": [],
   "source": [
    "var1 = 95\n",
    "var2 = 83\n",
    "var3 = 77\n",
    "\n",
    "# You need total marks as well\n",
    "\n",
    "average = (var1 + var2 + var3) / 3\n",
    "\n",
    "# Task: Calculate your percentage\n",
    "\n",
    "print(\"My Average is: \", average)"
   ]
  },
  {
   "cell_type": "code",
   "execution_count": 4,
   "id": "6b4e7e59",
   "metadata": {},
   "outputs": [
    {
     "name": "stdout",
     "output_type": "stream",
     "text": [
      "239\n",
      "My Percentage is:  79.66666666666666\n"
     ]
    }
   ],
   "source": [
    "var1 = 95\n",
    "var2 = 65\n",
    "var3 = 79\n",
    "\n",
    "total_marks = 300\n",
    "obtained_marks = var1 + var2 + var3\n",
    "\n",
    "print(obtained_marks)\n",
    "# Task: Calculate your percentage\n",
    "percentage = (obtained_marks / total_marks) * 100\n",
    "\n",
    "print(\"My Percentage is: \", percentage)"
   ]
  },
  {
   "cell_type": "markdown",
   "id": "275ac67f",
   "metadata": {},
   "source": [
    "## Datatypes Compatibility"
   ]
  },
  {
   "cell_type": "code",
   "execution_count": 7,
   "id": "5167882b",
   "metadata": {},
   "outputs": [
    {
     "name": "stdout",
     "output_type": "stream",
     "text": [
      "7\n",
      "7.0\n",
      "12\n",
      "0.75\n"
     ]
    }
   ],
   "source": [
    "print(3 + 4)\n",
    "print(3.0 + 4)\n",
    "print(3 * 4)\n",
    "print(3 / 4)"
   ]
  },
  {
   "cell_type": "code",
   "execution_count": 11,
   "id": "0a39b71c",
   "metadata": {},
   "outputs": [
    {
     "name": "stdout",
     "output_type": "stream",
     "text": [
      "4\n",
      "3.5\n"
     ]
    }
   ],
   "source": [
    "print(3 + True)  # True means 1\n",
    "print(3.5 + False) # False means 0"
   ]
  },
  {
   "cell_type": "code",
   "execution_count": 17,
   "id": "e9885750",
   "metadata": {},
   "outputs": [
    {
     "name": "stdout",
     "output_type": "stream",
     "text": [
      "Bilal Bilal Bilal \n"
     ]
    }
   ],
   "source": [
    "print(\"Bilal \" * 3)"
   ]
  },
  {
   "cell_type": "markdown",
   "id": "625f9459",
   "metadata": {},
   "source": [
    "## Operators"
   ]
  },
  {
   "cell_type": "code",
   "execution_count": 23,
   "id": "75e77543",
   "metadata": {},
   "outputs": [
    {
     "name": "stdout",
     "output_type": "stream",
     "text": [
      "1.6666666666666667\n",
      "1\n"
     ]
    }
   ],
   "source": [
    "print(5 / 3)    # simple division\n",
    "print(5 // 3)   # floor division"
   ]
  },
  {
   "cell_type": "code",
   "execution_count": 28,
   "id": "bbed5fff",
   "metadata": {},
   "outputs": [
    {
     "name": "stdout",
     "output_type": "stream",
     "text": [
      "False\n",
      "True\n"
     ]
    }
   ],
   "source": [
    "print(True and False)\n",
    "print(True or False)"
   ]
  },
  {
   "cell_type": "code",
   "execution_count": 31,
   "id": "eedde825",
   "metadata": {},
   "outputs": [
    {
     "name": "stdout",
     "output_type": "stream",
     "text": [
      "True\n",
      "False\n",
      "True\n",
      "False\n"
     ]
    }
   ],
   "source": [
    "print(5 > 4)\n",
    "print(5 < 4)\n",
    "print(5 >= 5)\n",
    "print(5 <= 4)"
   ]
  },
  {
   "cell_type": "code",
   "execution_count": 37,
   "id": "3fea14d7",
   "metadata": {},
   "outputs": [
    {
     "name": "stdout",
     "output_type": "stream",
     "text": [
      "3.0\n"
     ]
    }
   ],
   "source": [
    "b = 3\n",
    "b -= 1  # 2\n",
    "b += 1  # 3\n",
    "b *= 1  # 3\n",
    "b /= 1  # 3\n",
    "print(b)"
   ]
  },
  {
   "cell_type": "code",
   "execution_count": 42,
   "id": "b5be6e31",
   "metadata": {},
   "outputs": [
    {
     "name": "stdout",
     "output_type": "stream",
     "text": [
      "3125\n"
     ]
    }
   ],
   "source": [
    "c = 5   # = is assignment operator\n",
    "print(c * c * c * c * c)"
   ]
  },
  {
   "cell_type": "code",
   "execution_count": 47,
   "id": "4f910cb3",
   "metadata": {},
   "outputs": [
    {
     "name": "stdout",
     "output_type": "stream",
     "text": [
      "3125\n"
     ]
    }
   ],
   "source": [
    "print(c ** 5)"
   ]
  },
  {
   "cell_type": "code",
   "execution_count": 50,
   "id": "003c866e",
   "metadata": {},
   "outputs": [
    {
     "name": "stdout",
     "output_type": "stream",
     "text": [
      "0\n",
      "1\n",
      "0\n"
     ]
    }
   ],
   "source": [
    "print(9 % 3) # Modulo operator\n",
    "print(9 % 2)\n",
    "print(8 % 2)"
   ]
  },
  {
   "cell_type": "code",
   "execution_count": 54,
   "id": "bf83a811",
   "metadata": {},
   "outputs": [
    {
     "name": "stdout",
     "output_type": "stream",
     "text": [
      "False\n",
      "True\n"
     ]
    }
   ],
   "source": [
    "print(5 == 6)\n",
    "print(5 == 5)"
   ]
  },
  {
   "cell_type": "code",
   "execution_count": 57,
   "id": "db28ae86",
   "metadata": {},
   "outputs": [
    {
     "name": "stdout",
     "output_type": "stream",
     "text": [
      "True\n",
      "False\n"
     ]
    }
   ],
   "source": [
    "print(5 != 6)\n",
    "print(5 != 5)"
   ]
  },
  {
   "cell_type": "code",
   "execution_count": null,
   "id": "2199a9b5",
   "metadata": {},
   "outputs": [],
   "source": [
    "# Task1: print a string stating your name 15 times\n",
    "\n",
    "\"\"\" Task2: Take 2 strings, store them in different variables; \n",
    "    then try to concatenate and show result. \"\"\"\n",
    "\n",
    "\"\"\" Task3: Take 2 variables integers, divide them and store in a 3rd variable, \n",
    "    -15 from 3rd variable. \n",
    "    Then divide again with 5 but answer must be an integer. \"\"\""
   ]
  }
 ],
 "metadata": {
  "kernelspec": {
   "display_name": "Python 3 (ipykernel)",
   "language": "python",
   "name": "python3"
  },
  "language_info": {
   "codemirror_mode": {
    "name": "ipython",
    "version": 3
   },
   "file_extension": ".py",
   "mimetype": "text/x-python",
   "name": "python",
   "nbconvert_exporter": "python",
   "pygments_lexer": "ipython3",
   "version": "3.7.11"
  }
 },
 "nbformat": 4,
 "nbformat_minor": 5
}
