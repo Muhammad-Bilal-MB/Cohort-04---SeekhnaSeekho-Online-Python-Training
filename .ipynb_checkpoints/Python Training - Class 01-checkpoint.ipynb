{
 "cells": [
  {
   "cell_type": "markdown",
   "id": "eb607a1d",
   "metadata": {},
   "source": [
    "# <font color='red'> Cohort 04 - SeekhnaSeekho Online Python Training </font>"
   ]
  },
  {
   "cell_type": "markdown",
   "id": "fb61078e",
   "metadata": {},
   "source": [
    "ctrl + enter (Execute cell and remains in the same cell)"
   ]
  },
  {
   "cell_type": "markdown",
   "id": "440d3d21",
   "metadata": {},
   "source": [
    "shift + enter (Execute cell and moves to the same cell)"
   ]
  },
  {
   "cell_type": "markdown",
   "id": "541dc7ac",
   "metadata": {},
   "source": [
    "shift + tab (Access signature)"
   ]
  },
  {
   "cell_type": "markdown",
   "id": "28692704",
   "metadata": {},
   "source": [
    "## print (Statement or Function, whatever you like)"
   ]
  },
  {
   "cell_type": "code",
   "execution_count": 11,
   "id": "5ae2d32a",
   "metadata": {},
   "outputs": [
    {
     "name": "stdout",
     "output_type": "stream",
     "text": [
      "Bilal *** 567 *** Ali *** ABCD\n"
     ]
    }
   ],
   "source": [
    "print(\"Bilal\"      ,     567 ,      \"Ali\" ,        \"ABCD\", sep=' *** ')"
   ]
  },
  {
   "cell_type": "code",
   "execution_count": 12,
   "id": "9211cf70",
   "metadata": {},
   "outputs": [
    {
     "name": "stdout",
     "output_type": "stream",
     "text": [
      "Bilal 567 Ali ABCD\n"
     ]
    }
   ],
   "source": [
    "print(\"Bilal\" ,  567 , \"Ali\" , \"ABCD\")"
   ]
  },
  {
   "cell_type": "code",
   "execution_count": 15,
   "id": "f6f16a5e",
   "metadata": {},
   "outputs": [
    {
     "name": "stdout",
     "output_type": "stream",
     "text": [
      "Bilal 567 Ali ABCD --- NEW LINE\n",
      "Third Line\n"
     ]
    }
   ],
   "source": [
    "print(\"Bilal\" ,  567 , \"Ali\" , \"ABCD\" , end=' --- ')\n",
    "print('NEW LINE')\n",
    "print('Third Line')"
   ]
  },
  {
   "cell_type": "markdown",
   "id": "3fe1dc2e",
   "metadata": {},
   "source": [
    "## Commenting"
   ]
  },
  {
   "cell_type": "code",
   "execution_count": 1,
   "id": "f177aa7d",
   "metadata": {},
   "outputs": [],
   "source": [
    "# This is a single line comment"
   ]
  },
  {
   "cell_type": "code",
   "execution_count": 2,
   "id": "10e91d42",
   "metadata": {},
   "outputs": [
    {
     "data": {
      "text/plain": [
       "'\\nThis is a comment \\nconsisting of mutltiple lines\\n'"
      ]
     },
     "execution_count": 2,
     "metadata": {},
     "output_type": "execute_result"
    }
   ],
   "source": [
    "\"\"\"\n",
    "This is a comment \n",
    "consisting of mutltiple lines\n",
    "\"\"\""
   ]
  },
  {
   "cell_type": "code",
   "execution_count": 3,
   "id": "28f5d254",
   "metadata": {},
   "outputs": [],
   "source": [
    "a = 5    # variable a is having value of 5"
   ]
  },
  {
   "cell_type": "markdown",
   "id": "192f3332",
   "metadata": {},
   "source": [
    "## DataTypes"
   ]
  },
  {
   "cell_type": "code",
   "execution_count": null,
   "id": "4923ca02",
   "metadata": {},
   "outputs": [],
   "source": [
    "5                # integer -> int      --> Activity: Find range of int\n",
    "10.2             # float or double     --> Activity: Find range of float and double\n",
    "True             # boolean -> bool      \n",
    "\"Bilal\"          # String -> str       --> Activity: Find range of str\n",
    "'b'              # String -> str \n",
    "5e^-15           # Shorthand for exponential form"
   ]
  },
  {
   "cell_type": "markdown",
   "id": "ffedb2bd",
   "metadata": {},
   "source": [
    "Python is an untyped language. \n",
    "\n",
    "Python: a = 5 (a is an integer)                 \n",
    "C++: int a = 5"
   ]
  },
  {
   "cell_type": "markdown",
   "id": "ce04d6e6",
   "metadata": {},
   "source": [
    "## Variable and Naming Conventions"
   ]
  },
  {
   "cell_type": "code",
   "execution_count": 1,
   "id": "287e41eb",
   "metadata": {},
   "outputs": [
    {
     "name": "stdout",
     "output_type": "stream",
     "text": [
      "Bilal\n"
     ]
    }
   ],
   "source": [
    "var = \"Bilal\"\n",
    "\n",
    "first_name = \"Muhammad\"\n",
    "last_name = \"Bilal\"\n",
    "\n",
    "firstNameAndLastName = \"Muhammad\"\n",
    "lastName = \"Bilal\"\n",
    "\n",
    "print(var)"
   ]
  },
  {
   "cell_type": "markdown",
   "id": "2bcebc93",
   "metadata": {},
   "source": [
    "## What or what cannot be a variable name?"
   ]
  },
  {
   "cell_type": "code",
   "execution_count": null,
   "id": "1659c8ce",
   "metadata": {},
   "outputs": [],
   "source": [
    "1var (a variable name cannot start with a number)\n",
    "_var (possible)\n",
    "&var (not possible)"
   ]
  },
  {
   "cell_type": "markdown",
   "id": "b665139c",
   "metadata": {},
   "source": [
    "## Code Snippet and Task"
   ]
  },
  {
   "cell_type": "code",
   "execution_count": null,
   "id": "e199b4b8",
   "metadata": {},
   "outputs": [],
   "source": [
    "var1 = 95\n",
    "var2 = 83\n",
    "var3 = 77\n",
    "\n",
    "# You need total marks as well\n",
    "\n",
    "average = (var1 + var2 + var3) / 3\n",
    "\n",
    "# Task: Calculate your percentage\n",
    "\n",
    "print(\"My Average is: \", average)"
   ]
  },
  {
   "cell_type": "code",
   "execution_count": null,
   "id": "6b4e7e59",
   "metadata": {},
   "outputs": [],
   "source": []
  }
 ],
 "metadata": {
  "kernelspec": {
   "display_name": "Python 3 (ipykernel)",
   "language": "python",
   "name": "python3"
  },
  "language_info": {
   "codemirror_mode": {
    "name": "ipython",
    "version": 3
   },
   "file_extension": ".py",
   "mimetype": "text/x-python",
   "name": "python",
   "nbconvert_exporter": "python",
   "pygments_lexer": "ipython3",
   "version": "3.7.11"
  }
 },
 "nbformat": 4,
 "nbformat_minor": 5
}
