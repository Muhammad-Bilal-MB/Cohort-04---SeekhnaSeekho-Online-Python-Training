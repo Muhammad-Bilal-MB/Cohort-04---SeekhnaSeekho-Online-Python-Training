{
 "cells": [
  {
   "cell_type": "markdown",
   "id": "eb607a1d",
   "metadata": {},
   "source": [
    "# <font color='red'> Cohort 04 - SeekhnaSeekho Online Python Training </font>"
   ]
  },
  {
   "cell_type": "markdown",
   "id": "fb61078e",
   "metadata": {},
   "source": [
    "ctrl + enter (Execute cell and remains in the same cell)"
   ]
  },
  {
   "cell_type": "markdown",
   "id": "440d3d21",
   "metadata": {},
   "source": [
    "shift + enter (Execute cell and moves to the same cell)"
   ]
  },
  {
   "cell_type": "markdown",
   "id": "541dc7ac",
   "metadata": {},
   "source": [
    "shift + tab (Access signature)"
   ]
  },
  {
   "cell_type": "markdown",
   "id": "28692704",
   "metadata": {},
   "source": [
    "## print (Statement or Function, whatever you like)"
   ]
  },
  {
   "cell_type": "code",
   "execution_count": 11,
   "id": "5ae2d32a",
   "metadata": {},
   "outputs": [
    {
     "name": "stdout",
     "output_type": "stream",
     "text": [
      "Bilal *** 567 *** Ali *** ABCD\n"
     ]
    }
   ],
   "source": [
    "print(\"Bilal\"      ,     567 ,      \"Ali\" ,        \"ABCD\", sep=' *** ')"
   ]
  },
  {
   "cell_type": "code",
   "execution_count": 12,
   "id": "9211cf70",
   "metadata": {},
   "outputs": [
    {
     "name": "stdout",
     "output_type": "stream",
     "text": [
      "Bilal 567 Ali ABCD\n"
     ]
    }
   ],
   "source": [
    "print(\"Bilal\" ,  567 , \"Ali\" , \"ABCD\")"
   ]
  },
  {
   "cell_type": "code",
   "execution_count": 15,
   "id": "f6f16a5e",
   "metadata": {},
   "outputs": [
    {
     "name": "stdout",
     "output_type": "stream",
     "text": [
      "Bilal 567 Ali ABCD --- NEW LINE\n",
      "Third Line\n"
     ]
    }
   ],
   "source": [
    "print(\"Bilal\" ,  567 , \"Ali\" , \"ABCD\" , end=' --- ')\n",
    "print('NEW LINE')\n",
    "print('Third Line')"
   ]
  },
  {
   "cell_type": "markdown",
   "id": "3fe1dc2e",
   "metadata": {},
   "source": [
    "## Commenting"
   ]
  },
  {
   "cell_type": "code",
   "execution_count": 1,
   "id": "f177aa7d",
   "metadata": {},
   "outputs": [],
   "source": [
    "# This is a single line comment"
   ]
  },
  {
   "cell_type": "code",
   "execution_count": 2,
   "id": "10e91d42",
   "metadata": {},
   "outputs": [
    {
     "data": {
      "text/plain": [
       "'\\nThis is a comment \\nconsisting of mutltiple lines\\n'"
      ]
     },
     "execution_count": 2,
     "metadata": {},
     "output_type": "execute_result"
    }
   ],
   "source": [
    "\"\"\"\n",
    "This is a comment \n",
    "consisting of mutltiple lines\n",
    "\"\"\""
   ]
  },
  {
   "cell_type": "code",
   "execution_count": 3,
   "id": "28f5d254",
   "metadata": {},
   "outputs": [],
   "source": [
    "a = 5    # variable a is having value of 5"
   ]
  },
  {
   "cell_type": "markdown",
   "id": "192f3332",
   "metadata": {},
   "source": [
    "## DataTypes"
   ]
  },
  {
   "cell_type": "code",
   "execution_count": null,
   "id": "4923ca02",
   "metadata": {},
   "outputs": [],
   "source": [
    "5                # integer -> int      --> Activity: Find range of int\n",
    "10.2             # float or double     --> Activity: Find range of float and double\n",
    "True             # boolean -> bool      \n",
    "\"Bilal\"          # String -> str       --> Activity: Find range of str\n",
    "'b'              # String -> str \n",
    "5e^-15           # Shorthand for exponential form"
   ]
  },
  {
   "cell_type": "markdown",
   "id": "ffedb2bd",
   "metadata": {},
   "source": [
    "Python is an untyped language. \n",
    "\n",
    "Python: a = 5 (a is an integer)                 \n",
    "C++: int a = 5"
   ]
  },
  {
   "cell_type": "markdown",
   "id": "ce04d6e6",
   "metadata": {},
   "source": [
    "## Variable and Naming Conventions"
   ]
  },
  {
   "cell_type": "code",
   "execution_count": 1,
   "id": "287e41eb",
   "metadata": {},
   "outputs": [
    {
     "name": "stdout",
     "output_type": "stream",
     "text": [
      "Bilal\n"
     ]
    }
   ],
   "source": [
    "var = \"Bilal\"\n",
    "\n",
    "first_name = \"Muhammad\"\n",
    "last_name = \"Bilal\"\n",
    "\n",
    "firstNameAndLastName = \"Muhammad\"\n",
    "lastName = \"Bilal\"\n",
    "\n",
    "print(var)"
   ]
  },
  {
   "cell_type": "markdown",
   "id": "2bcebc93",
   "metadata": {},
   "source": [
    "## What or what cannot be a variable name?"
   ]
  },
  {
   "cell_type": "code",
   "execution_count": null,
   "id": "1659c8ce",
   "metadata": {},
   "outputs": [],
   "source": [
    "1var (a variable name cannot start with a number)\n",
    "_var (possible)\n",
    "&var (not possible)"
   ]
  },
  {
   "cell_type": "markdown",
   "id": "b665139c",
   "metadata": {},
   "source": [
    "## Code Snippet and Task"
   ]
  },
  {
   "cell_type": "code",
   "execution_count": null,
   "id": "e199b4b8",
   "metadata": {},
   "outputs": [],
   "source": [
    "var1 = 95\n",
    "var2 = 83\n",
    "var3 = 77\n",
    "\n",
    "# You need total marks as well\n",
    "\n",
    "average = (var1 + var2 + var3) / 3\n",
    "\n",
    "# Task: Calculate your percentage\n",
    "\n",
    "print(\"My Average is: \", average)"
   ]
  },
  {
   "cell_type": "code",
   "execution_count": 4,
   "id": "6b4e7e59",
   "metadata": {},
   "outputs": [
    {
     "name": "stdout",
     "output_type": "stream",
     "text": [
      "239\n",
      "My Percentage is:  79.66666666666666\n"
     ]
    }
   ],
   "source": [
    "var1 = 95\n",
    "var2 = 65\n",
    "var3 = 79\n",
    "\n",
    "total_marks = 300\n",
    "obtained_marks = var1 + var2 + var3\n",
    "\n",
    "print(obtained_marks)\n",
    "# Task: Calculate your percentage\n",
    "percentage = (obtained_marks / total_marks) * 100\n",
    "\n",
    "print(\"My Percentage is: \", percentage)"
   ]
  },
  {
   "cell_type": "markdown",
   "id": "42833e29",
   "metadata": {},
   "source": [
    "## Datatypes Compatibility"
   ]
  },
  {
   "cell_type": "code",
   "execution_count": 7,
   "id": "f865191c",
   "metadata": {},
   "outputs": [
    {
     "name": "stdout",
     "output_type": "stream",
     "text": [
      "7\n",
      "7.0\n",
      "12\n",
      "0.75\n"
     ]
    }
   ],
   "source": [
    "print(3 + 4)\n",
    "print(3.0 + 4)\n",
    "print(3 * 4)\n",
    "print(3 / 4)"
   ]
  },
  {
   "cell_type": "code",
   "execution_count": 11,
   "id": "7584d62e",
   "metadata": {},
   "outputs": [
    {
     "name": "stdout",
     "output_type": "stream",
     "text": [
      "4\n",
      "3.5\n"
     ]
    }
   ],
   "source": [
    "print(3 + True)  # True means 1\n",
    "print(3.5 + False) # False means 0"
   ]
  },
  {
   "cell_type": "code",
   "execution_count": 17,
   "id": "c26aaa47",
   "metadata": {},
   "outputs": [
    {
     "name": "stdout",
     "output_type": "stream",
     "text": [
      "Bilal Bilal Bilal \n"
     ]
    }
   ],
   "source": [
    "print(\"Bilal \" * 3)"
   ]
  },
  {
   "cell_type": "markdown",
   "id": "804bf1bb",
   "metadata": {},
   "source": [
    "## Operators"
   ]
  },
  {
   "cell_type": "code",
   "execution_count": 23,
   "id": "25fea5ea",
   "metadata": {},
   "outputs": [
    {
     "name": "stdout",
     "output_type": "stream",
     "text": [
      "1.6666666666666667\n",
      "1\n"
     ]
    }
   ],
   "source": [
    "print(5 / 3)    # simple division\n",
    "print(5 // 3)   # floor division"
   ]
  },
  {
   "cell_type": "code",
   "execution_count": 28,
   "id": "50fb6731",
   "metadata": {},
   "outputs": [
    {
     "name": "stdout",
     "output_type": "stream",
     "text": [
      "False\n",
      "True\n"
     ]
    }
   ],
   "source": [
    "print(True and False)\n",
    "print(True or False)"
   ]
  },
  {
   "cell_type": "code",
   "execution_count": 31,
   "id": "52a54012",
   "metadata": {},
   "outputs": [
    {
     "name": "stdout",
     "output_type": "stream",
     "text": [
      "True\n",
      "False\n",
      "True\n",
      "False\n"
     ]
    }
   ],
   "source": [
    "print(5 > 4)\n",
    "print(5 < 4)\n",
    "print(5 >= 5)\n",
    "print(5 <= 4)"
   ]
  },
  {
   "cell_type": "code",
   "execution_count": 37,
   "id": "974ddbf8",
   "metadata": {},
   "outputs": [
    {
     "name": "stdout",
     "output_type": "stream",
     "text": [
      "3.0\n"
     ]
    }
   ],
   "source": [
    "b = 3\n",
    "b -= 1  # 2\n",
    "b += 1  # 3\n",
    "b *= 1  # 3\n",
    "b /= 1  # 3\n",
    "print(b)"
   ]
  },
  {
   "cell_type": "code",
   "execution_count": 42,
   "id": "d83ecde6",
   "metadata": {},
   "outputs": [
    {
     "name": "stdout",
     "output_type": "stream",
     "text": [
      "3125\n"
     ]
    }
   ],
   "source": [
    "c = 5   # = is assignment operator\n",
    "print(c * c * c * c * c)"
   ]
  },
  {
   "cell_type": "code",
   "execution_count": 47,
   "id": "45eca6af",
   "metadata": {},
   "outputs": [
    {
     "name": "stdout",
     "output_type": "stream",
     "text": [
      "3125\n"
     ]
    }
   ],
   "source": [
    "print(c ** 5)"
   ]
  },
  {
   "cell_type": "code",
   "execution_count": 50,
   "id": "a0f9d134",
   "metadata": {},
   "outputs": [
    {
     "name": "stdout",
     "output_type": "stream",
     "text": [
      "0\n",
      "1\n",
      "0\n"
     ]
    }
   ],
   "source": [
    "print(9 % 3) # Modulo operator\n",
    "print(9 % 2)\n",
    "print(8 % 2)"
   ]
  },
  {
   "cell_type": "code",
   "execution_count": 54,
   "id": "17c687d1",
   "metadata": {},
   "outputs": [
    {
     "name": "stdout",
     "output_type": "stream",
     "text": [
      "False\n",
      "True\n"
     ]
    }
   ],
   "source": [
    "print(5 == 6)\n",
    "print(5 == 5)"
   ]
  },
  {
   "cell_type": "code",
   "execution_count": 57,
   "id": "4704b894",
   "metadata": {},
   "outputs": [
    {
     "name": "stdout",
     "output_type": "stream",
     "text": [
      "True\n",
      "False\n"
     ]
    }
   ],
   "source": [
    "print(5 != 6)\n",
    "print(5 != 5)"
   ]
  },
  {
   "cell_type": "code",
   "execution_count": 1,
   "id": "94bc5799",
   "metadata": {},
   "outputs": [
    {
     "ename": "SyntaxError",
     "evalue": "EOF while scanning triple-quoted string literal (Temp/ipykernel_10924/1768273620.py, line 10)",
     "output_type": "error",
     "traceback": [
      "\u001b[1;36m  File \u001b[1;32m\"C:\\Users\\Bilal\\AppData\\Local\\Temp/ipykernel_10924/1768273620.py\"\u001b[1;36m, line \u001b[1;32m10\u001b[0m\n\u001b[1;33m    \"\"\" Task4:\u001b[0m\n\u001b[1;37m               ^\u001b[0m\n\u001b[1;31mSyntaxError\u001b[0m\u001b[1;31m:\u001b[0m EOF while scanning triple-quoted string literal\n"
     ]
    }
   ],
   "source": [
    "# Task1: print a string stating your name 15 times\n",
    "\n",
    "\"\"\" Task2: Take 2 strings, store them in different variables; \n",
    "    then try to concatenate and show result. \"\"\"\n",
    "\n",
    "\"\"\" Task3: Take 2 variables integers, divide them and store in a 3rd variable, \n",
    "    -15 from 3rd variable. \n",
    "    Then divide again with 5 but answer must be an integer. \"\"\""
   ]
  },
  {
   "cell_type": "code",
   "execution_count": 2,
   "id": "70942920",
   "metadata": {},
   "outputs": [
    {
     "name": "stdout",
     "output_type": "stream",
     "text": [
      "Bilal Bilal Bilal Bilal Bilal Bilal Bilal Bilal Bilal Bilal Bilal Bilal Bilal Bilal Bilal \n"
     ]
    }
   ],
   "source": [
    "print(\"Bilal \" * 15)   #Task-1 Solution"
   ]
  },
  {
   "cell_type": "code",
   "execution_count": 4,
   "id": "384ed792",
   "metadata": {},
   "outputs": [
    {
     "name": "stdout",
     "output_type": "stream",
     "text": [
      "MuhammadBilal\n"
     ]
    }
   ],
   "source": [
    "string1 = \"Muhammad\"   #Task-2 Solution\n",
    "string2 = \"Bilal\"\n",
    "result = string1 + string2\n",
    "print(result)"
   ]
  },
  {
   "cell_type": "code",
   "execution_count": 7,
   "id": "f6251836",
   "metadata": {},
   "outputs": [
    {
     "name": "stdout",
     "output_type": "stream",
     "text": [
      "0.6\n",
      "-14.4\n",
      "-3.0\n"
     ]
    }
   ],
   "source": [
    "a = 3\n",
    "b = 5\n",
    "\n",
    "third = a/b\n",
    "print(third)\n",
    "\n",
    "third -= 15  #third = third - 15\n",
    "print(third)\n",
    "\n",
    "result = third // 5\n",
    "print(result)"
   ]
  },
  {
   "cell_type": "markdown",
   "id": "50c59b5f",
   "metadata": {},
   "source": [
    "## Taking Input from User"
   ]
  },
  {
   "cell_type": "code",
   "execution_count": 14,
   "id": "5103ea65",
   "metadata": {},
   "outputs": [
    {
     "name": "stdout",
     "output_type": "stream",
     "text": [
      "87.5\n",
      "Output:  87.5\n",
      "<class 'str'>\n"
     ]
    }
   ],
   "source": [
    "var = input()\n",
    "print('Output: ', var)\n",
    "print(type(var))"
   ]
  },
  {
   "cell_type": "markdown",
   "id": "89d264a4",
   "metadata": {},
   "source": [
    "Input function always takes input in form of string unless you manually define a data type for it. "
   ]
  },
  {
   "cell_type": "code",
   "execution_count": 15,
   "id": "e00ded73",
   "metadata": {},
   "outputs": [
    {
     "name": "stdout",
     "output_type": "stream",
     "text": [
      "87.5\n",
      "Output:  87.5\n",
      "<class 'float'>\n"
     ]
    }
   ],
   "source": [
    "var2 = float(input())\n",
    "print('Output: ', var2)\n",
    "print(type(var2))"
   ]
  },
  {
   "cell_type": "code",
   "execution_count": 16,
   "id": "01fca298",
   "metadata": {},
   "outputs": [
    {
     "name": "stdout",
     "output_type": "stream",
     "text": [
      "Bilal\n"
     ]
    },
    {
     "ename": "ValueError",
     "evalue": "could not convert string to float: 'Bilal'",
     "output_type": "error",
     "traceback": [
      "\u001b[1;31m---------------------------------------------------------------------------\u001b[0m",
      "\u001b[1;31mValueError\u001b[0m                                Traceback (most recent call last)",
      "\u001b[1;32m~\\AppData\\Local\\Temp/ipykernel_10924/3293747466.py\u001b[0m in \u001b[0;36m<module>\u001b[1;34m\u001b[0m\n\u001b[1;32m----> 1\u001b[1;33m \u001b[0mvar3\u001b[0m \u001b[1;33m=\u001b[0m \u001b[0mfloat\u001b[0m\u001b[1;33m(\u001b[0m\u001b[0minput\u001b[0m\u001b[1;33m(\u001b[0m\u001b[1;33m)\u001b[0m\u001b[1;33m)\u001b[0m\u001b[1;33m\u001b[0m\u001b[1;33m\u001b[0m\u001b[0m\n\u001b[0m\u001b[0;32m      2\u001b[0m \u001b[0mprint\u001b[0m\u001b[1;33m(\u001b[0m\u001b[1;34m'Output: '\u001b[0m\u001b[1;33m,\u001b[0m \u001b[0mvar3\u001b[0m\u001b[1;33m)\u001b[0m\u001b[1;33m\u001b[0m\u001b[1;33m\u001b[0m\u001b[0m\n\u001b[0;32m      3\u001b[0m \u001b[0mprint\u001b[0m\u001b[1;33m(\u001b[0m\u001b[0mtype\u001b[0m\u001b[1;33m(\u001b[0m\u001b[0mvar3\u001b[0m\u001b[1;33m)\u001b[0m\u001b[1;33m)\u001b[0m\u001b[1;33m\u001b[0m\u001b[1;33m\u001b[0m\u001b[0m\n",
      "\u001b[1;31mValueError\u001b[0m: could not convert string to float: 'Bilal'"
     ]
    }
   ],
   "source": [
    "var3 = float(input())\n",
    "print('Output: ', var3)\n",
    "print(type(var3))"
   ]
  },
  {
   "cell_type": "code",
   "execution_count": 17,
   "id": "701bf7e0",
   "metadata": {},
   "outputs": [
    {
     "name": "stdout",
     "output_type": "stream",
     "text": [
      "Please enter your age: 22\n",
      "Output:  22\n",
      "<class 'int'>\n"
     ]
    }
   ],
   "source": [
    "var4 = int(input(\"Please enter your age: \"))\n",
    "print('Output: ', var4)\n",
    "print(type(var4))"
   ]
  },
  {
   "cell_type": "markdown",
   "id": "c776c6a9",
   "metadata": {},
   "source": [
    "## Type Casting"
   ]
  },
  {
   "cell_type": "code",
   "execution_count": 23,
   "id": "c80eebcb",
   "metadata": {},
   "outputs": [
    {
     "name": "stdout",
     "output_type": "stream",
     "text": [
      "<class 'int'>\n",
      "18\n",
      "<class 'str'>\n",
      "18\n"
     ]
    }
   ],
   "source": [
    "var5 = 18.5\n",
    "var5 = int(var5)\n",
    "print(type(var5))\n",
    "print(var5)\n",
    "var5 = str(var5)\n",
    "print(type(var5))\n",
    "print(var5)"
   ]
  },
  {
   "cell_type": "markdown",
   "id": "5292a2f8",
   "metadata": {},
   "source": [
    "int and float are easily interchangeable (while float to int can cause data loss). int and float can be easily converted to str but a str can only be converted to int or float if there is only a number in that string. "
   ]
  },
  {
   "cell_type": "code",
   "execution_count": 27,
   "id": "343c2c5a",
   "metadata": {},
   "outputs": [
    {
     "name": "stdout",
     "output_type": "stream",
     "text": [
      "85\n"
     ]
    }
   ],
   "source": [
    "var6 = \"85\"\n",
    "print(int(var6))"
   ]
  },
  {
   "cell_type": "code",
   "execution_count": 31,
   "id": "788e2c64",
   "metadata": {},
   "outputs": [
    {
     "name": "stdout",
     "output_type": "stream",
     "text": [
      "33.4\n",
      "33\n"
     ]
    }
   ],
   "source": [
    "var7 = \"33.4\"\n",
    "var7 = float(var7)\n",
    "print(var7)\n",
    "print(int(var7))"
   ]
  },
  {
   "cell_type": "code",
   "execution_count": null,
   "id": "a98b7932",
   "metadata": {},
   "outputs": [],
   "source": []
  }
 ],
 "metadata": {
  "kernelspec": {
   "display_name": "Python 3 (ipykernel)",
   "language": "python",
   "name": "python3"
  },
  "language_info": {
   "codemirror_mode": {
    "name": "ipython",
    "version": 3
   },
   "file_extension": ".py",
   "mimetype": "text/x-python",
   "name": "python",
   "nbconvert_exporter": "python",
   "pygments_lexer": "ipython3",
   "version": "3.7.11"
  }
 },
 "nbformat": 4,
 "nbformat_minor": 5
}
