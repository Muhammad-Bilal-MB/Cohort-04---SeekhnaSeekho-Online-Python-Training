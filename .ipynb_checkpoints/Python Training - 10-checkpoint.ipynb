{
 "cells": [
  {
   "cell_type": "markdown",
   "id": "49551d2b",
   "metadata": {},
   "source": [
    "### Nested Statements and Looping"
   ]
  },
  {
   "cell_type": "code",
   "execution_count": 1,
   "id": "8ee40cca",
   "metadata": {},
   "outputs": [
    {
     "name": "stdout",
     "output_type": "stream",
     "text": [
      "Even\n"
     ]
    }
   ],
   "source": [
    "a = 8\n",
    "\n",
    "if (8 % 2 == 0):\n",
    "    print(\"Even\")\n",
    "else:\n",
    "    print(\"Odd\")"
   ]
  },
  {
   "cell_type": "code",
   "execution_count": 4,
   "id": "d4b8463f",
   "metadata": {},
   "outputs": [
    {
     "name": "stdout",
     "output_type": "stream",
     "text": [
      "0 x 0 = 0\n",
      "0 x 1 = 0\n",
      "0 x 2 = 0\n",
      "0 x 3 = 0\n",
      "0 x 4 = 0\n",
      "0 x 5 = 0\n",
      "0 x 6 = 0\n",
      "0 x 7 = 0\n",
      "0 x 8 = 0\n",
      "0 x 9 = 0\n",
      "1 x 0 = 0\n",
      "1 x 1 = 1\n",
      "1 x 2 = 2\n",
      "1 x 3 = 3\n",
      "1 x 4 = 4\n",
      "1 x 5 = 5\n",
      "1 x 6 = 6\n",
      "1 x 7 = 7\n",
      "1 x 8 = 8\n",
      "1 x 9 = 9\n",
      "2 x 0 = 0\n",
      "2 x 1 = 2\n",
      "2 x 2 = 4\n",
      "2 x 3 = 6\n",
      "2 x 4 = 8\n",
      "2 x 5 = 10\n",
      "2 x 6 = 12\n",
      "2 x 7 = 14\n",
      "2 x 8 = 16\n",
      "2 x 9 = 18\n",
      "3 x 0 = 0\n",
      "3 x 1 = 3\n",
      "3 x 2 = 6\n",
      "3 x 3 = 9\n",
      "3 x 4 = 12\n",
      "3 x 5 = 15\n",
      "3 x 6 = 18\n",
      "3 x 7 = 21\n",
      "3 x 8 = 24\n",
      "3 x 9 = 27\n",
      "4 x 0 = 0\n",
      "4 x 1 = 4\n",
      "4 x 2 = 8\n",
      "4 x 3 = 12\n",
      "4 x 4 = 16\n",
      "4 x 5 = 20\n",
      "4 x 6 = 24\n",
      "4 x 7 = 28\n",
      "4 x 8 = 32\n",
      "4 x 9 = 36\n"
     ]
    }
   ],
   "source": [
    "for i in range(5):\n",
    "    for j in range(10):\n",
    "        print(str(i) + \" x \" + str(j) + \" = \" + str(i * j))"
   ]
  },
  {
   "cell_type": "code",
   "execution_count": 3,
   "id": "194a557b",
   "metadata": {},
   "outputs": [
    {
     "name": "stdout",
     "output_type": "stream",
     "text": [
      "400\n",
      "100\n"
     ]
    }
   ],
   "source": [
    "dic = {'a' : 400, 'b' : 100}\n",
    "\n",
    "for i in dic.values():\n",
    "    print(i)"
   ]
  },
  {
   "cell_type": "markdown",
   "id": "a5dca1ad",
   "metadata": {},
   "source": [
    "### User Defined Functions"
   ]
  },
  {
   "cell_type": "code",
   "execution_count": 9,
   "id": "fee0e8fc",
   "metadata": {},
   "outputs": [],
   "source": [
    "def summation(a , b):   # Function definition --> Parameters\n",
    "    c = a + b \n",
    "    d = c * 3\n",
    "    return d"
   ]
  },
  {
   "cell_type": "code",
   "execution_count": 11,
   "id": "9843fc94",
   "metadata": {},
   "outputs": [],
   "source": [
    "var = summation(5 , 3)    # Function Calling  -->  Arguments"
   ]
  },
  {
   "cell_type": "code",
   "execution_count": 12,
   "id": "19c6dbd1",
   "metadata": {},
   "outputs": [
    {
     "data": {
      "text/plain": [
       "24"
      ]
     },
     "execution_count": 12,
     "metadata": {},
     "output_type": "execute_result"
    }
   ],
   "source": [
    "var"
   ]
  },
  {
   "cell_type": "code",
   "execution_count": 13,
   "id": "423f0a34",
   "metadata": {},
   "outputs": [],
   "source": [
    "var2 = summation('Bilal', ' Awan')"
   ]
  },
  {
   "cell_type": "code",
   "execution_count": 14,
   "id": "5b0befba",
   "metadata": {},
   "outputs": [
    {
     "data": {
      "text/plain": [
       "'Bilal AwanBilal AwanBilal Awan'"
      ]
     },
     "execution_count": 14,
     "metadata": {},
     "output_type": "execute_result"
    }
   ],
   "source": [
    "var2"
   ]
  },
  {
   "cell_type": "markdown",
   "id": "80719269",
   "metadata": {},
   "source": [
    "#### Functions without Parameters"
   ]
  },
  {
   "cell_type": "code",
   "execution_count": 1,
   "id": "a8a252cc",
   "metadata": {},
   "outputs": [],
   "source": [
    "def take_some_input():\n",
    "    var = input(\"Enter a name : \")\n",
    "    length = len(var)\n",
    "    return length"
   ]
  },
  {
   "cell_type": "code",
   "execution_count": 2,
   "id": "58d20a81",
   "metadata": {},
   "outputs": [
    {
     "name": "stdout",
     "output_type": "stream",
     "text": [
      "Enter a name : Bilal\n"
     ]
    }
   ],
   "source": [
    "result = take_some_input()"
   ]
  },
  {
   "cell_type": "code",
   "execution_count": 3,
   "id": "a32801b5",
   "metadata": {},
   "outputs": [
    {
     "data": {
      "text/plain": [
       "5"
      ]
     },
     "execution_count": 3,
     "metadata": {},
     "output_type": "execute_result"
    }
   ],
   "source": [
    "result"
   ]
  },
  {
   "cell_type": "code",
   "execution_count": 4,
   "id": "05a41d6d",
   "metadata": {},
   "outputs": [],
   "source": [
    "def fun(lst, dic):\n",
    "    var = input(\"Enter your desired key name : \")\n",
    "    dic[var] = lst\n",
    "    return dic"
   ]
  },
  {
   "cell_type": "code",
   "execution_count": 5,
   "id": "aabb4cb0",
   "metadata": {},
   "outputs": [
    {
     "name": "stdout",
     "output_type": "stream",
     "text": [
      "Enter your desired key name : Key2\n"
     ]
    }
   ],
   "source": [
    "dictionary = fun([1, 2, 3, 4], {'Key1' : 50000})"
   ]
  },
  {
   "cell_type": "code",
   "execution_count": 6,
   "id": "63e177f5",
   "metadata": {},
   "outputs": [
    {
     "data": {
      "text/plain": [
       "{'Key1': 50000, 'Key2': [1, 2, 3, 4]}"
      ]
     },
     "execution_count": 6,
     "metadata": {},
     "output_type": "execute_result"
    }
   ],
   "source": [
    "dictionary"
   ]
  },
  {
   "cell_type": "code",
   "execution_count": 7,
   "id": "cc91a835",
   "metadata": {},
   "outputs": [],
   "source": [
    "def fun2(parent, child, parent_len, child_len):\n",
    "    for i in range(parent_len):\n",
    "        parent.append(child)\n",
    "    return parent"
   ]
  },
  {
   "cell_type": "code",
   "execution_count": 8,
   "id": "b4da0d0a",
   "metadata": {},
   "outputs": [],
   "source": [
    "par = [1,2,3]\n",
    "chi = ['Bilal', 'Ali', 'Aiman']\n",
    "\n",
    "res = fun2(par, chi, len(par), len(chi))"
   ]
  },
  {
   "cell_type": "code",
   "execution_count": 9,
   "id": "92d70e89",
   "metadata": {},
   "outputs": [
    {
     "data": {
      "text/plain": [
       "[1,\n",
       " 2,\n",
       " 3,\n",
       " ['Bilal', 'Ali', 'Aiman'],\n",
       " ['Bilal', 'Ali', 'Aiman'],\n",
       " ['Bilal', 'Ali', 'Aiman']]"
      ]
     },
     "execution_count": 9,
     "metadata": {},
     "output_type": "execute_result"
    }
   ],
   "source": [
    "res"
   ]
  },
  {
   "cell_type": "markdown",
   "id": "f4f855ae",
   "metadata": {},
   "source": [
    "#### Function with Default Value Parameters"
   ]
  },
  {
   "cell_type": "code",
   "execution_count": 13,
   "id": "9aa821a5",
   "metadata": {},
   "outputs": [],
   "source": [
    "def new_function(par1, par3, par2 = 100):\n",
    "    if (par1 > par2):\n",
    "        par3 = par3 + 199\n",
    "    elif (par2 > par3):\n",
    "        par3 = par3 + 99\n",
    "    else:\n",
    "        par3 -= 100\n",
    "        \n",
    "    return par3"
   ]
  },
  {
   "cell_type": "code",
   "execution_count": 14,
   "id": "96834f51",
   "metadata": {},
   "outputs": [],
   "source": [
    "resulted = new_function(par1 = 5, par2 = 3, par3 7)"
   ]
  },
  {
   "cell_type": "code",
   "execution_count": 15,
   "id": "e1f23203",
   "metadata": {},
   "outputs": [
    {
     "data": {
      "text/plain": [
       "102"
      ]
     },
     "execution_count": 15,
     "metadata": {},
     "output_type": "execute_result"
    }
   ],
   "source": [
    "resulted"
   ]
  }
 ],
 "metadata": {
  "kernelspec": {
   "display_name": "Python 3 (ipykernel)",
   "language": "python",
   "name": "python3"
  },
  "language_info": {
   "codemirror_mode": {
    "name": "ipython",
    "version": 3
   },
   "file_extension": ".py",
   "mimetype": "text/x-python",
   "name": "python",
   "nbconvert_exporter": "python",
   "pygments_lexer": "ipython3",
   "version": "3.7.11"
  }
 },
 "nbformat": 4,
 "nbformat_minor": 5
}
