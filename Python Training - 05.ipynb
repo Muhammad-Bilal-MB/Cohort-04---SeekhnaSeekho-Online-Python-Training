{
 "cells": [
  {
   "cell_type": "markdown",
   "id": "fb04b21e",
   "metadata": {},
   "source": [
    "## Conditionals"
   ]
  },
  {
   "cell_type": "markdown",
   "id": "4d498e27",
   "metadata": {},
   "source": [
    "#### If - else condition"
   ]
  },
  {
   "cell_type": "code",
   "execution_count": 1,
   "id": "162de237",
   "metadata": {},
   "outputs": [
    {
     "name": "stdout",
     "output_type": "stream",
     "text": [
      "Theek hai\n",
      "Outside Statement\n"
     ]
    }
   ],
   "source": [
    "if (5 > 3):\n",
    "    print(\"Theek hai\")\n",
    "  \n",
    "print(\"Outside Statement\")"
   ]
  },
  {
   "cell_type": "code",
   "execution_count": 2,
   "id": "fd28adbf",
   "metadata": {},
   "outputs": [
    {
     "name": "stdout",
     "output_type": "stream",
     "text": [
      "Outside Statement\n"
     ]
    }
   ],
   "source": [
    "if (3 > 5):\n",
    "    print(\"Theek hai\")\n",
    "  \n",
    "print(\"Outside Statement\")"
   ]
  },
  {
   "cell_type": "code",
   "execution_count": 3,
   "id": "ba1e8370",
   "metadata": {},
   "outputs": [
    {
     "name": "stdout",
     "output_type": "stream",
     "text": [
      "If executed\n"
     ]
    }
   ],
   "source": [
    "if (5 > 3):\n",
    "    print(\"If executed\")\n",
    "else:\n",
    "    print(\"Else executed\")"
   ]
  },
  {
   "cell_type": "code",
   "execution_count": 5,
   "id": "ed067581",
   "metadata": {},
   "outputs": [
    {
     "name": "stdout",
     "output_type": "stream",
     "text": [
      "Else executed\n"
     ]
    }
   ],
   "source": [
    "if (3 > 5):\n",
    "    print(\"If executed\")\n",
    "else:\n",
    "    print(\"Else executed\")"
   ]
  },
  {
   "cell_type": "code",
   "execution_count": 1,
   "id": "13fe89ec",
   "metadata": {},
   "outputs": [
    {
     "name": "stdout",
     "output_type": "stream",
     "text": [
      "Enter your city's current temprature: 33\n",
      "It's Hot\n"
     ]
    }
   ],
   "source": [
    "temperature = float(input(\"Enter your city's current temprature: \"))\n",
    "\n",
    "if (temperature <= 15):\n",
    "    print(\"It's Cold here\")\n",
    "    \n",
    "elif ((temperature > 15) and (temperature <= 30)):\n",
    "    print(\"It's Moderate\")\n",
    "\n",
    "elif ((temperature > 30) and (temperature <= 40)):\n",
    "    print(\"It's Hot\")\n",
    "    \n",
    "else:\n",
    "    print(\"Burning here!\")"
   ]
  },
  {
   "cell_type": "code",
   "execution_count": 12,
   "id": "bbd7c6aa",
   "metadata": {},
   "outputs": [
    {
     "name": "stdout",
     "output_type": "stream",
     "text": [
      "Parent print\n",
      "Nested Print\n"
     ]
    }
   ],
   "source": [
    "if (8 > 5):\n",
    "    print(\"Parent print\")\n",
    "    if (6 > 5):\n",
    "        print(\"Nested Print\")"
   ]
  },
  {
   "cell_type": "markdown",
   "id": "d8355102",
   "metadata": {},
   "source": [
    "<font color='red'>Task: Perform the same above temperature task with nested if.</font>"
   ]
  },
  {
   "cell_type": "markdown",
   "id": "53ef8331",
   "metadata": {},
   "source": [
    "### Lists"
   ]
  },
  {
   "cell_type": "code",
   "execution_count": 18,
   "id": "948608b3",
   "metadata": {},
   "outputs": [],
   "source": [
    "var = \"Bilal\"    #this is a variable\n",
    "\n",
    "my_data = [\"Bilal\", 22, \"Male\", 8.5, 55, 66, 77, 88, 99] "
   ]
  },
  {
   "cell_type": "code",
   "execution_count": 5,
   "id": "84b724ab",
   "metadata": {},
   "outputs": [
    {
     "name": "stdout",
     "output_type": "stream",
     "text": [
      "<class 'str'>\n",
      "<class 'list'>\n"
     ]
    }
   ],
   "source": [
    "print(type(var))\n",
    "print(type(my_data))"
   ]
  },
  {
   "cell_type": "code",
   "execution_count": 6,
   "id": "0a42d255",
   "metadata": {},
   "outputs": [
    {
     "name": "stdout",
     "output_type": "stream",
     "text": [
      "Bilal\n",
      "['Bilal', 22, 'Male', 8.5]\n"
     ]
    }
   ],
   "source": [
    "print(var)\n",
    "print(my_data)"
   ]
  },
  {
   "cell_type": "code",
   "execution_count": 7,
   "id": "8a8ec17f",
   "metadata": {},
   "outputs": [
    {
     "name": "stdout",
     "output_type": "stream",
     "text": [
      "Bilal\n"
     ]
    }
   ],
   "source": [
    "print(my_data[0])"
   ]
  },
  {
   "cell_type": "code",
   "execution_count": 10,
   "id": "2075c0cb",
   "metadata": {},
   "outputs": [
    {
     "name": "stdout",
     "output_type": "stream",
     "text": [
      "22\n"
     ]
    }
   ],
   "source": [
    "print(my_data[1])"
   ]
  },
  {
   "cell_type": "code",
   "execution_count": 11,
   "id": "b9412970",
   "metadata": {},
   "outputs": [
    {
     "name": "stdout",
     "output_type": "stream",
     "text": [
      "8.5\n"
     ]
    }
   ],
   "source": [
    "print(my_data[-1])"
   ]
  },
  {
   "cell_type": "markdown",
   "id": "765d3e37",
   "metadata": {},
   "source": [
    "#### Slicing in a List"
   ]
  },
  {
   "cell_type": "code",
   "execution_count": 16,
   "id": "017975e9",
   "metadata": {},
   "outputs": [
    {
     "name": "stdout",
     "output_type": "stream",
     "text": [
      "['Bilal', 22]\n"
     ]
    }
   ],
   "source": [
    "print(my_data[0:2])  # start index : end index (not inclusive)"
   ]
  },
  {
   "cell_type": "code",
   "execution_count": 17,
   "id": "439bef3c",
   "metadata": {},
   "outputs": [
    {
     "name": "stdout",
     "output_type": "stream",
     "text": [
      "['Male']\n"
     ]
    }
   ],
   "source": [
    "print(my_data[-2:-1])"
   ]
  },
  {
   "cell_type": "code",
   "execution_count": 20,
   "id": "305e2810",
   "metadata": {},
   "outputs": [
    {
     "name": "stdout",
     "output_type": "stream",
     "text": [
      "['Male', 55]\n"
     ]
    }
   ],
   "source": [
    "print(my_data[2:6:2])  # start index : end index (not inclusive) : jump"
   ]
  },
  {
   "cell_type": "code",
   "execution_count": 24,
   "id": "53d8834b",
   "metadata": {},
   "outputs": [
    {
     "name": "stdout",
     "output_type": "stream",
     "text": [
      "[1, 3, 5, 7, 9, 11, 13, 15, 17, 19]\n"
     ]
    }
   ],
   "source": [
    "nums = [0,1,2,3,4,5,6,7,8,9,10,11,12,13,14,15,16,17,18,19,20]\n",
    "print(nums[1:-1:2])"
   ]
  },
  {
   "cell_type": "code",
   "execution_count": 37,
   "id": "d67c1c12",
   "metadata": {},
   "outputs": [],
   "source": [
    "new = [5.5, 2, \"Facebook User\", [200, 300, 400]]"
   ]
  },
  {
   "cell_type": "code",
   "execution_count": 32,
   "id": "57f9e468",
   "metadata": {},
   "outputs": [
    {
     "name": "stdout",
     "output_type": "stream",
     "text": [
      "300\n"
     ]
    }
   ],
   "source": [
    "print(new[3][1])"
   ]
  },
  {
   "cell_type": "markdown",
   "id": "cccbb248",
   "metadata": {},
   "source": [
    "#### Methods of List"
   ]
  },
  {
   "cell_type": "code",
   "execution_count": 38,
   "id": "14264480",
   "metadata": {},
   "outputs": [],
   "source": [
    "new.append(\"I am append\") # adds item in a list but always at the end"
   ]
  },
  {
   "cell_type": "code",
   "execution_count": 39,
   "id": "d57fc170",
   "metadata": {},
   "outputs": [
    {
     "name": "stdout",
     "output_type": "stream",
     "text": [
      "[5.5, 2, 'Facebook User', [200, 300, 400], 'I am append']\n"
     ]
    }
   ],
   "source": [
    "print(new)"
   ]
  },
  {
   "cell_type": "code",
   "execution_count": 35,
   "id": "0c775b3e",
   "metadata": {},
   "outputs": [],
   "source": [
    "new.clear()"
   ]
  },
  {
   "cell_type": "code",
   "execution_count": 36,
   "id": "b686e55d",
   "metadata": {},
   "outputs": [
    {
     "name": "stdout",
     "output_type": "stream",
     "text": [
      "[]\n"
     ]
    }
   ],
   "source": [
    "print(new)"
   ]
  },
  {
   "cell_type": "code",
   "execution_count": 40,
   "id": "0b280e1d",
   "metadata": {},
   "outputs": [],
   "source": [
    "new2 = new.copy()"
   ]
  },
  {
   "cell_type": "code",
   "execution_count": 43,
   "id": "dc1567c0",
   "metadata": {},
   "outputs": [],
   "source": [
    "new2.clear()"
   ]
  },
  {
   "cell_type": "code",
   "execution_count": 46,
   "id": "f004769e",
   "metadata": {},
   "outputs": [
    {
     "data": {
      "text/plain": [
       "([], [5.5, 2, 'Facebook User', [200, 300, 400], 'I am append'])"
      ]
     },
     "execution_count": 46,
     "metadata": {},
     "output_type": "execute_result"
    }
   ],
   "source": [
    "new2, new"
   ]
  },
  {
   "cell_type": "code",
   "execution_count": 47,
   "id": "66adb731",
   "metadata": {},
   "outputs": [
    {
     "data": {
      "text/plain": [
       "1"
      ]
     },
     "execution_count": 47,
     "metadata": {},
     "output_type": "execute_result"
    }
   ],
   "source": [
    "new.count('Facebook User')"
   ]
  },
  {
   "cell_type": "code",
   "execution_count": 48,
   "id": "9b110d8d",
   "metadata": {},
   "outputs": [],
   "source": [
    "cohort = [8, 20, 2022]\n",
    "\n",
    "new.append(cohort)"
   ]
  },
  {
   "cell_type": "code",
   "execution_count": 49,
   "id": "1e161624",
   "metadata": {},
   "outputs": [
    {
     "name": "stdout",
     "output_type": "stream",
     "text": [
      "[5.5, 2, 'Facebook User', [200, 300, 400], 'I am append', [8, 20, 2022]]\n"
     ]
    }
   ],
   "source": [
    "print(new)"
   ]
  },
  {
   "cell_type": "code",
   "execution_count": 50,
   "id": "a4b2ae8a",
   "metadata": {},
   "outputs": [],
   "source": [
    "new.extend(cohort)"
   ]
  },
  {
   "cell_type": "code",
   "execution_count": 52,
   "id": "38a32be8",
   "metadata": {},
   "outputs": [
    {
     "name": "stdout",
     "output_type": "stream",
     "text": [
      "[5.5, 2, 'Facebook User', [200, 300, 400], 'I am append', [8, 20, 2022], 8, 20, 2022]\n"
     ]
    }
   ],
   "source": [
    "print(new)"
   ]
  },
  {
   "cell_type": "code",
   "execution_count": 53,
   "id": "1b83e3f1",
   "metadata": {},
   "outputs": [
    {
     "data": {
      "text/plain": [
       "2"
      ]
     },
     "execution_count": 53,
     "metadata": {},
     "output_type": "execute_result"
    }
   ],
   "source": [
    "new.index('Facebook User')"
   ]
  },
  {
   "cell_type": "code",
   "execution_count": 54,
   "id": "3d4a3c8e",
   "metadata": {},
   "outputs": [],
   "source": [
    "new.insert(2, 'New User is here Tada!!')"
   ]
  },
  {
   "cell_type": "code",
   "execution_count": 55,
   "id": "68d32d7f",
   "metadata": {},
   "outputs": [
    {
     "name": "stdout",
     "output_type": "stream",
     "text": [
      "[5.5, 2, 'New User is here Tada!!', 'Facebook User', [200, 300, 400], 'I am append', [8, 20, 2022], 8, 20, 2022]\n"
     ]
    }
   ],
   "source": [
    "print(new)"
   ]
  },
  {
   "cell_type": "code",
   "execution_count": 56,
   "id": "8b5a7d5b",
   "metadata": {},
   "outputs": [
    {
     "name": "stdout",
     "output_type": "stream",
     "text": [
      "2022\n"
     ]
    }
   ],
   "source": [
    "a = new.pop()\n",
    "print(a)"
   ]
  },
  {
   "cell_type": "code",
   "execution_count": 58,
   "id": "30c2d356",
   "metadata": {},
   "outputs": [
    {
     "name": "stdout",
     "output_type": "stream",
     "text": [
      "[5.5, 2, 'New User is here Tada!!', 'Facebook User', [200, 300, 400], 'I am append', [8, 20, 2022], 8, 20]\n"
     ]
    }
   ],
   "source": [
    "print(new)"
   ]
  },
  {
   "cell_type": "code",
   "execution_count": 59,
   "id": "e6ab812c",
   "metadata": {},
   "outputs": [],
   "source": [
    "new.remove(8)"
   ]
  },
  {
   "cell_type": "code",
   "execution_count": 60,
   "id": "7e545af3",
   "metadata": {},
   "outputs": [
    {
     "name": "stdout",
     "output_type": "stream",
     "text": [
      "[5.5, 2, 'New User is here Tada!!', 'Facebook User', [200, 300, 400], 'I am append', [8, 20, 2022], 20]\n"
     ]
    }
   ],
   "source": [
    "print(new)"
   ]
  },
  {
   "cell_type": "code",
   "execution_count": 64,
   "id": "6e76e22c",
   "metadata": {},
   "outputs": [],
   "source": [
    "new.reverse()"
   ]
  },
  {
   "cell_type": "code",
   "execution_count": 65,
   "id": "b8eb1f08",
   "metadata": {},
   "outputs": [
    {
     "name": "stdout",
     "output_type": "stream",
     "text": [
      "[20, [8, 20, 2022], 'I am append', [200, 300, 400], 'Facebook User', 'New User is here Tada!!', 2, 5.5]\n"
     ]
    }
   ],
   "source": [
    "print(new)"
   ]
  },
  {
   "cell_type": "code",
   "execution_count": null,
   "id": "6f6ab4f7",
   "metadata": {},
   "outputs": [],
   "source": [
    "new.sort()"
   ]
  },
  {
   "cell_type": "markdown",
   "id": "98a1f389",
   "metadata": {},
   "source": [
    "##### List Tasks"
   ]
  },
  {
   "cell_type": "markdown",
   "id": "da5d0007",
   "metadata": {},
   "source": [
    "1). Create a list with 10 items. \n",
    "lst = [#, #, #, #, [#, #, [], #], #, [[[#, #, #], [#, #], # ]], #, #, #] \n",
    "\n",
    "Find the deepest nested list and slice last 2 values from it. "
   ]
  },
  {
   "cell_type": "markdown",
   "id": "8ad80853",
   "metadata": {},
   "source": [
    "2). Create 3 lists, lst1, lst2, lst3 and add lst2 at 2nd postion of lst3 (5 items) and then add lst3 in front of lst1. "
   ]
  },
  {
   "cell_type": "markdown",
   "id": "2a289188",
   "metadata": {},
   "source": [
    "3). Remove lst2 from lst1 and add it to a variable and then print it 10 times."
   ]
  },
  {
   "cell_type": "markdown",
   "id": "45e08b3b",
   "metadata": {},
   "source": [
    "###### Task-1 Solution"
   ]
  },
  {
   "cell_type": "code",
   "execution_count": 1,
   "id": "0274110e",
   "metadata": {},
   "outputs": [],
   "source": [
    "lst = [1, 2, 3, 4, [\"a\", \"b\", [5, 7], \"c\"], 5, \n",
    "       [[[\"ab\", \"cd\", \"de\"], [\"ef, gh\"], 7.5]], 6, 7, 8]"
   ]
  },
  {
   "cell_type": "code",
   "execution_count": 7,
   "id": "16c9eaf1",
   "metadata": {},
   "outputs": [
    {
     "data": {
      "text/plain": [
       "[[['ab', 'cd', 'de'], ['ef, gh'], 7.5]]"
      ]
     },
     "execution_count": 7,
     "metadata": {},
     "output_type": "execute_result"
    }
   ],
   "source": [
    "lst[6]"
   ]
  },
  {
   "cell_type": "code",
   "execution_count": 8,
   "id": "54900818",
   "metadata": {},
   "outputs": [
    {
     "data": {
      "text/plain": [
       "[['ab', 'cd', 'de'], ['ef, gh'], 7.5]"
      ]
     },
     "execution_count": 8,
     "metadata": {},
     "output_type": "execute_result"
    }
   ],
   "source": [
    "lst[6][0]"
   ]
  },
  {
   "cell_type": "code",
   "execution_count": 9,
   "id": "e83c5737",
   "metadata": {},
   "outputs": [
    {
     "data": {
      "text/plain": [
       "['ab', 'cd', 'de']"
      ]
     },
     "execution_count": 9,
     "metadata": {},
     "output_type": "execute_result"
    }
   ],
   "source": [
    "lst[6][0][0]"
   ]
  },
  {
   "cell_type": "code",
   "execution_count": 10,
   "id": "f0025dfb",
   "metadata": {},
   "outputs": [
    {
     "data": {
      "text/plain": [
       "['cd', 'de']"
      ]
     },
     "execution_count": 10,
     "metadata": {},
     "output_type": "execute_result"
    }
   ],
   "source": [
    "lst[6][0][0][1:3]"
   ]
  },
  {
   "cell_type": "markdown",
   "id": "a130043d",
   "metadata": {},
   "source": [
    "##### Task-2 Solution"
   ]
  },
  {
   "cell_type": "code",
   "execution_count": 12,
   "id": "07838a75",
   "metadata": {},
   "outputs": [],
   "source": [
    "lst1 = [1, 2, 3, 4, 5]\n",
    "lst2 = [\"a\", \"b\", \"c\", \"d\", \"e\"]\n",
    "lst3 = [True, False, True, False, True]"
   ]
  },
  {
   "cell_type": "code",
   "execution_count": 13,
   "id": "3ca55e43",
   "metadata": {},
   "outputs": [],
   "source": [
    "lst3.insert(2, lst2)"
   ]
  },
  {
   "cell_type": "code",
   "execution_count": 14,
   "id": "a9f81136",
   "metadata": {},
   "outputs": [
    {
     "data": {
      "text/plain": [
       "[True, False, ['a', 'b', 'c', 'd', 'e'], True, False, True]"
      ]
     },
     "execution_count": 14,
     "metadata": {},
     "output_type": "execute_result"
    }
   ],
   "source": [
    "lst3"
   ]
  },
  {
   "cell_type": "code",
   "execution_count": 16,
   "id": "8bfd50d6",
   "metadata": {},
   "outputs": [],
   "source": [
    "lst1.insert(0, lst3)"
   ]
  },
  {
   "cell_type": "code",
   "execution_count": 17,
   "id": "29882649",
   "metadata": {},
   "outputs": [
    {
     "data": {
      "text/plain": [
       "[[True, False, ['a', 'b', 'c', 'd', 'e'], True, False, True], 1, 2, 3, 4, 5]"
      ]
     },
     "execution_count": 17,
     "metadata": {},
     "output_type": "execute_result"
    }
   ],
   "source": [
    "lst1"
   ]
  },
  {
   "cell_type": "markdown",
   "id": "7c400f03",
   "metadata": {},
   "source": [
    "###### Task-3 Solution"
   ]
  },
  {
   "cell_type": "code",
   "execution_count": 19,
   "id": "e5dbf0a3",
   "metadata": {},
   "outputs": [
    {
     "data": {
      "text/plain": [
       "['a', 'b', 'c', 'd', 'e']"
      ]
     },
     "execution_count": 19,
     "metadata": {},
     "output_type": "execute_result"
    }
   ],
   "source": [
    "lst1[0][2]"
   ]
  },
  {
   "cell_type": "code",
   "execution_count": 20,
   "id": "3a6e9513",
   "metadata": {},
   "outputs": [],
   "source": [
    "var = lst1[0].pop(2)"
   ]
  },
  {
   "cell_type": "code",
   "execution_count": 22,
   "id": "4b30eb6c",
   "metadata": {},
   "outputs": [
    {
     "data": {
      "text/plain": [
       "[[True, False, True, False, True], 1, 2, 3, 4, 5]"
      ]
     },
     "execution_count": 22,
     "metadata": {},
     "output_type": "execute_result"
    }
   ],
   "source": [
    "lst1"
   ]
  },
  {
   "cell_type": "code",
   "execution_count": 23,
   "id": "724299c7",
   "metadata": {},
   "outputs": [
    {
     "data": {
      "text/plain": [
       "['a', 'b', 'c', 'd', 'e']"
      ]
     },
     "execution_count": 23,
     "metadata": {},
     "output_type": "execute_result"
    }
   ],
   "source": [
    "var"
   ]
  },
  {
   "cell_type": "code",
   "execution_count": 25,
   "id": "4080ce81",
   "metadata": {},
   "outputs": [
    {
     "name": "stdout",
     "output_type": "stream",
     "text": [
      "['a', 'b', 'c', 'd', 'e', 'a', 'b', 'c', 'd', 'e', 'a', 'b', 'c', 'd', 'e', 'a', 'b', 'c', 'd', 'e', 'a', 'b', 'c', 'd', 'e', 'a', 'b', 'c', 'd', 'e', 'a', 'b', 'c', 'd', 'e', 'a', 'b', 'c', 'd', 'e', 'a', 'b', 'c', 'd', 'e', 'a', 'b', 'c', 'd', 'e']\n"
     ]
    }
   ],
   "source": [
    "print(var * 10)"
   ]
  },
  {
   "cell_type": "code",
   "execution_count": null,
   "id": "6c49e4c0",
   "metadata": {},
   "outputs": [],
   "source": []
  },
  {
   "cell_type": "code",
   "execution_count": null,
   "id": "1e062a55",
   "metadata": {},
   "outputs": [],
   "source": []
  },
  {
   "cell_type": "code",
   "execution_count": null,
   "id": "8d007523",
   "metadata": {},
   "outputs": [],
   "source": []
  },
  {
   "cell_type": "code",
   "execution_count": null,
   "id": "3e6f01d1",
   "metadata": {},
   "outputs": [],
   "source": []
  }
 ],
 "metadata": {
  "kernelspec": {
   "display_name": "Python 3 (ipykernel)",
   "language": "python",
   "name": "python3"
  },
  "language_info": {
   "codemirror_mode": {
    "name": "ipython",
    "version": 3
   },
   "file_extension": ".py",
   "mimetype": "text/x-python",
   "name": "python",
   "nbconvert_exporter": "python",
   "pygments_lexer": "ipython3",
   "version": "3.7.11"
  }
 },
 "nbformat": 4,
 "nbformat_minor": 5
}
