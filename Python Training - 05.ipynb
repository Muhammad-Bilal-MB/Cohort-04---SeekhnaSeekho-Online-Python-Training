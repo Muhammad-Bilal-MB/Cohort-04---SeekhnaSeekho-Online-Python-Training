{
 "cells": [
  {
   "cell_type": "markdown",
   "id": "fb04b21e",
   "metadata": {},
   "source": [
    "## Conditionals"
   ]
  },
  {
   "cell_type": "markdown",
   "id": "4d498e27",
   "metadata": {},
   "source": [
    "#### If - else condition"
   ]
  },
  {
   "cell_type": "code",
   "execution_count": 1,
   "id": "162de237",
   "metadata": {},
   "outputs": [
    {
     "name": "stdout",
     "output_type": "stream",
     "text": [
      "Theek hai\n",
      "Outside Statement\n"
     ]
    }
   ],
   "source": [
    "if (5 > 3):\n",
    "    print(\"Theek hai\")\n",
    "  \n",
    "print(\"Outside Statement\")"
   ]
  },
  {
   "cell_type": "code",
   "execution_count": 2,
   "id": "fd28adbf",
   "metadata": {},
   "outputs": [
    {
     "name": "stdout",
     "output_type": "stream",
     "text": [
      "Outside Statement\n"
     ]
    }
   ],
   "source": [
    "if (3 > 5):\n",
    "    print(\"Theek hai\")\n",
    "  \n",
    "print(\"Outside Statement\")"
   ]
  },
  {
   "cell_type": "code",
   "execution_count": 3,
   "id": "ba1e8370",
   "metadata": {},
   "outputs": [
    {
     "name": "stdout",
     "output_type": "stream",
     "text": [
      "If executed\n"
     ]
    }
   ],
   "source": [
    "if (5 > 3):\n",
    "    print(\"If executed\")\n",
    "else:\n",
    "    print(\"Else executed\")"
   ]
  },
  {
   "cell_type": "code",
   "execution_count": 5,
   "id": "ed067581",
   "metadata": {},
   "outputs": [
    {
     "name": "stdout",
     "output_type": "stream",
     "text": [
      "Else executed\n"
     ]
    }
   ],
   "source": [
    "if (3 > 5):\n",
    "    print(\"If executed\")\n",
    "else:\n",
    "    print(\"Else executed\")"
   ]
  },
  {
   "cell_type": "code",
   "execution_count": 1,
   "id": "13fe89ec",
   "metadata": {},
   "outputs": [
    {
     "name": "stdout",
     "output_type": "stream",
     "text": [
      "Enter your city's current temprature: 33\n",
      "It's Hot\n"
     ]
    }
   ],
   "source": [
    "temperature = float(input(\"Enter your city's current temprature: \"))\n",
    "\n",
    "if (temperature <= 15):\n",
    "    print(\"It's Cold here\")\n",
    "    \n",
    "elif ((temperature > 15) and (temperature <= 30)):\n",
    "    print(\"It's Moderate\")\n",
    "\n",
    "elif ((temperature > 30) and (temperature <= 40)):\n",
    "    print(\"It's Hot\")\n",
    "    \n",
    "else:\n",
    "    print(\"Burning here!\")"
   ]
  },
  {
   "cell_type": "code",
   "execution_count": 12,
   "id": "bbd7c6aa",
   "metadata": {},
   "outputs": [
    {
     "name": "stdout",
     "output_type": "stream",
     "text": [
      "Parent print\n",
      "Nested Print\n"
     ]
    }
   ],
   "source": [
    "if (8 > 5):\n",
    "    print(\"Parent print\")\n",
    "    if (6 > 5):\n",
    "        print(\"Nested Print\")"
   ]
  },
  {
   "cell_type": "markdown",
   "id": "d8355102",
   "metadata": {},
   "source": [
    "<font color='red'>Task: Perform the same above temperature task with nested if.</font>"
   ]
  },
  {
   "cell_type": "markdown",
   "id": "53ef8331",
   "metadata": {},
   "source": [
    "### Lists"
   ]
  },
  {
   "cell_type": "code",
   "execution_count": 18,
   "id": "948608b3",
   "metadata": {},
   "outputs": [],
   "source": [
    "var = \"Bilal\"    #this is a variable\n",
    "\n",
    "my_data = [\"Bilal\", 22, \"Male\", 8.5, 55, 66, 77, 88, 99] "
   ]
  },
  {
   "cell_type": "code",
   "execution_count": 5,
   "id": "84b724ab",
   "metadata": {},
   "outputs": [
    {
     "name": "stdout",
     "output_type": "stream",
     "text": [
      "<class 'str'>\n",
      "<class 'list'>\n"
     ]
    }
   ],
   "source": [
    "print(type(var))\n",
    "print(type(my_data))"
   ]
  },
  {
   "cell_type": "code",
   "execution_count": 6,
   "id": "0a42d255",
   "metadata": {},
   "outputs": [
    {
     "name": "stdout",
     "output_type": "stream",
     "text": [
      "Bilal\n",
      "['Bilal', 22, 'Male', 8.5]\n"
     ]
    }
   ],
   "source": [
    "print(var)\n",
    "print(my_data)"
   ]
  },
  {
   "cell_type": "code",
   "execution_count": 7,
   "id": "8a8ec17f",
   "metadata": {},
   "outputs": [
    {
     "name": "stdout",
     "output_type": "stream",
     "text": [
      "Bilal\n"
     ]
    }
   ],
   "source": [
    "print(my_data[0])"
   ]
  },
  {
   "cell_type": "code",
   "execution_count": 10,
   "id": "2075c0cb",
   "metadata": {},
   "outputs": [
    {
     "name": "stdout",
     "output_type": "stream",
     "text": [
      "22\n"
     ]
    }
   ],
   "source": [
    "print(my_data[1])"
   ]
  },
  {
   "cell_type": "code",
   "execution_count": 11,
   "id": "b9412970",
   "metadata": {},
   "outputs": [
    {
     "name": "stdout",
     "output_type": "stream",
     "text": [
      "8.5\n"
     ]
    }
   ],
   "source": [
    "print(my_data[-1])"
   ]
  },
  {
   "cell_type": "markdown",
   "id": "765d3e37",
   "metadata": {},
   "source": [
    "#### Slicing in a List"
   ]
  },
  {
   "cell_type": "code",
   "execution_count": 16,
   "id": "017975e9",
   "metadata": {},
   "outputs": [
    {
     "name": "stdout",
     "output_type": "stream",
     "text": [
      "['Bilal', 22]\n"
     ]
    }
   ],
   "source": [
    "print(my_data[0:2])  # start index : end index (not inclusive)"
   ]
  },
  {
   "cell_type": "code",
   "execution_count": 17,
   "id": "439bef3c",
   "metadata": {},
   "outputs": [
    {
     "name": "stdout",
     "output_type": "stream",
     "text": [
      "['Male']\n"
     ]
    }
   ],
   "source": [
    "print(my_data[-2:-1])"
   ]
  },
  {
   "cell_type": "code",
   "execution_count": 20,
   "id": "305e2810",
   "metadata": {},
   "outputs": [
    {
     "name": "stdout",
     "output_type": "stream",
     "text": [
      "['Male', 55]\n"
     ]
    }
   ],
   "source": [
    "print(my_data[2:6:2])  # start index : end index (not inclusive) : jump"
   ]
  },
  {
   "cell_type": "code",
   "execution_count": 24,
   "id": "53d8834b",
   "metadata": {},
   "outputs": [
    {
     "name": "stdout",
     "output_type": "stream",
     "text": [
      "[1, 3, 5, 7, 9, 11, 13, 15, 17, 19]\n"
     ]
    }
   ],
   "source": [
    "nums = [0,1,2,3,4,5,6,7,8,9,10,11,12,13,14,15,16,17,18,19,20]\n",
    "print(nums[1:-1:2])"
   ]
  },
  {
   "cell_type": "code",
   "execution_count": 37,
   "id": "d67c1c12",
   "metadata": {},
   "outputs": [],
   "source": [
    "new = [5.5, 2, \"Facebook User\", [200, 300, 400]]"
   ]
  },
  {
   "cell_type": "code",
   "execution_count": 32,
   "id": "57f9e468",
   "metadata": {},
   "outputs": [
    {
     "name": "stdout",
     "output_type": "stream",
     "text": [
      "300\n"
     ]
    }
   ],
   "source": [
    "print(new[3][1])"
   ]
  },
  {
   "cell_type": "markdown",
   "id": "cccbb248",
   "metadata": {},
   "source": [
    "#### Methods of List"
   ]
  },
  {
   "cell_type": "code",
   "execution_count": 38,
   "id": "14264480",
   "metadata": {},
   "outputs": [],
   "source": [
    "new.append(\"I am append\") # adds item in a list but always at the end"
   ]
  },
  {
   "cell_type": "code",
   "execution_count": 39,
   "id": "d57fc170",
   "metadata": {},
   "outputs": [
    {
     "name": "stdout",
     "output_type": "stream",
     "text": [
      "[5.5, 2, 'Facebook User', [200, 300, 400], 'I am append']\n"
     ]
    }
   ],
   "source": [
    "print(new)"
   ]
  },
  {
   "cell_type": "code",
   "execution_count": 35,
   "id": "0c775b3e",
   "metadata": {},
   "outputs": [],
   "source": [
    "new.clear()"
   ]
  },
  {
   "cell_type": "code",
   "execution_count": 36,
   "id": "b686e55d",
   "metadata": {},
   "outputs": [
    {
     "name": "stdout",
     "output_type": "stream",
     "text": [
      "[]\n"
     ]
    }
   ],
   "source": [
    "print(new)"
   ]
  },
  {
   "cell_type": "code",
   "execution_count": 40,
   "id": "0b280e1d",
   "metadata": {},
   "outputs": [],
   "source": [
    "new2 = new.copy()"
   ]
  },
  {
   "cell_type": "code",
   "execution_count": 43,
   "id": "dc1567c0",
   "metadata": {},
   "outputs": [],
   "source": [
    "new2.clear()"
   ]
  },
  {
   "cell_type": "code",
   "execution_count": 46,
   "id": "f004769e",
   "metadata": {},
   "outputs": [
    {
     "data": {
      "text/plain": [
       "([], [5.5, 2, 'Facebook User', [200, 300, 400], 'I am append'])"
      ]
     },
     "execution_count": 46,
     "metadata": {},
     "output_type": "execute_result"
    }
   ],
   "source": [
    "new2, new"
   ]
  },
  {
   "cell_type": "code",
   "execution_count": 47,
   "id": "66adb731",
   "metadata": {},
   "outputs": [
    {
     "data": {
      "text/plain": [
       "1"
      ]
     },
     "execution_count": 47,
     "metadata": {},
     "output_type": "execute_result"
    }
   ],
   "source": [
    "new.count('Facebook User')"
   ]
  },
  {
   "cell_type": "code",
   "execution_count": 48,
   "id": "9b110d8d",
   "metadata": {},
   "outputs": [],
   "source": [
    "cohort = [8, 20, 2022]\n",
    "\n",
    "new.append(cohort)"
   ]
  },
  {
   "cell_type": "code",
   "execution_count": 49,
   "id": "1e161624",
   "metadata": {},
   "outputs": [
    {
     "name": "stdout",
     "output_type": "stream",
     "text": [
      "[5.5, 2, 'Facebook User', [200, 300, 400], 'I am append', [8, 20, 2022]]\n"
     ]
    }
   ],
   "source": [
    "print(new)"
   ]
  },
  {
   "cell_type": "code",
   "execution_count": 50,
   "id": "a4b2ae8a",
   "metadata": {},
   "outputs": [],
   "source": [
    "new.extend(cohort)"
   ]
  },
  {
   "cell_type": "code",
   "execution_count": 52,
   "id": "38a32be8",
   "metadata": {},
   "outputs": [
    {
     "name": "stdout",
     "output_type": "stream",
     "text": [
      "[5.5, 2, 'Facebook User', [200, 300, 400], 'I am append', [8, 20, 2022], 8, 20, 2022]\n"
     ]
    }
   ],
   "source": [
    "print(new)"
   ]
  },
  {
   "cell_type": "code",
   "execution_count": 53,
   "id": "1b83e3f1",
   "metadata": {},
   "outputs": [
    {
     "data": {
      "text/plain": [
       "2"
      ]
     },
     "execution_count": 53,
     "metadata": {},
     "output_type": "execute_result"
    }
   ],
   "source": [
    "new.index('Facebook User')"
   ]
  },
  {
   "cell_type": "code",
   "execution_count": 54,
   "id": "3d4a3c8e",
   "metadata": {},
   "outputs": [],
   "source": [
    "new.insert(2, 'New User is here Tada!!')"
   ]
  },
  {
   "cell_type": "code",
   "execution_count": 55,
   "id": "68d32d7f",
   "metadata": {},
   "outputs": [
    {
     "name": "stdout",
     "output_type": "stream",
     "text": [
      "[5.5, 2, 'New User is here Tada!!', 'Facebook User', [200, 300, 400], 'I am append', [8, 20, 2022], 8, 20, 2022]\n"
     ]
    }
   ],
   "source": [
    "print(new)"
   ]
  },
  {
   "cell_type": "code",
   "execution_count": 56,
   "id": "8b5a7d5b",
   "metadata": {},
   "outputs": [
    {
     "name": "stdout",
     "output_type": "stream",
     "text": [
      "2022\n"
     ]
    }
   ],
   "source": [
    "a = new.pop()\n",
    "print(a)"
   ]
  },
  {
   "cell_type": "code",
   "execution_count": 58,
   "id": "30c2d356",
   "metadata": {},
   "outputs": [
    {
     "name": "stdout",
     "output_type": "stream",
     "text": [
      "[5.5, 2, 'New User is here Tada!!', 'Facebook User', [200, 300, 400], 'I am append', [8, 20, 2022], 8, 20]\n"
     ]
    }
   ],
   "source": [
    "print(new)"
   ]
  },
  {
   "cell_type": "code",
   "execution_count": 59,
   "id": "e6ab812c",
   "metadata": {},
   "outputs": [],
   "source": [
    "new.remove(8)"
   ]
  },
  {
   "cell_type": "code",
   "execution_count": 60,
   "id": "7e545af3",
   "metadata": {},
   "outputs": [
    {
     "name": "stdout",
     "output_type": "stream",
     "text": [
      "[5.5, 2, 'New User is here Tada!!', 'Facebook User', [200, 300, 400], 'I am append', [8, 20, 2022], 20]\n"
     ]
    }
   ],
   "source": [
    "print(new)"
   ]
  },
  {
   "cell_type": "code",
   "execution_count": 64,
   "id": "6e76e22c",
   "metadata": {},
   "outputs": [],
   "source": [
    "new.reverse()"
   ]
  },
  {
   "cell_type": "code",
   "execution_count": 65,
   "id": "b8eb1f08",
   "metadata": {},
   "outputs": [
    {
     "name": "stdout",
     "output_type": "stream",
     "text": [
      "[20, [8, 20, 2022], 'I am append', [200, 300, 400], 'Facebook User', 'New User is here Tada!!', 2, 5.5]\n"
     ]
    }
   ],
   "source": [
    "print(new)"
   ]
  },
  {
   "cell_type": "code",
   "execution_count": null,
   "id": "6f6ab4f7",
   "metadata": {},
   "outputs": [],
   "source": [
    "new.sort()"
   ]
  },
  {
   "cell_type": "markdown",
   "id": "98a1f389",
   "metadata": {},
   "source": [
    "##### List Tasks"
   ]
  },
  {
   "cell_type": "markdown",
   "id": "da5d0007",
   "metadata": {},
   "source": [
    "1). Create a list with 10 items. \n",
    "lst = [#, #, #, #, [#, #, [], #], #, [[[#, #, #], [#, #], # ]], #, #, #] \n",
    "\n",
    "Find the deepest nested list and slice last 2 values from it. "
   ]
  },
  {
   "cell_type": "markdown",
   "id": "8ad80853",
   "metadata": {},
   "source": [
    "2). Create 3 lists, lst1, lst2, lst3 and add lst2 at 2nd postion of lst3 (5 items) and then add lst3 in front of lst1. "
   ]
  },
  {
   "cell_type": "markdown",
   "id": "2a289188",
   "metadata": {},
   "source": [
    "3). Remove lst2 from lst1 and add it to a variable and then print it 10 times."
   ]
  },
  {
   "cell_type": "markdown",
   "id": "051d9a8d",
   "metadata": {},
   "source": [
    "###### Task-1 Solution"
   ]
  },
  {
   "cell_type": "code",
   "execution_count": 1,
   "id": "0274110e",
   "metadata": {},
   "outputs": [],
   "source": [
    "lst = [1, 2, 3, 4, [\"a\", \"b\", [5, 7], \"c\"], 5, \n",
    "       [[[\"ab\", \"cd\", \"de\"], [\"ef, gh\"], 7.5]], 6, 7, 8]"
   ]
  },
  {
   "cell_type": "code",
   "execution_count": 7,
   "id": "10965744",
   "metadata": {},
   "outputs": [
    {
     "data": {
      "text/plain": [
       "[[['ab', 'cd', 'de'], ['ef, gh'], 7.5]]"
      ]
     },
     "execution_count": 7,
     "metadata": {},
     "output_type": "execute_result"
    }
   ],
   "source": [
    "lst[6]"
   ]
  },
  {
   "cell_type": "code",
   "execution_count": 8,
   "id": "f15362ad",
   "metadata": {},
   "outputs": [
    {
     "data": {
      "text/plain": [
       "[['ab', 'cd', 'de'], ['ef, gh'], 7.5]"
      ]
     },
     "execution_count": 8,
     "metadata": {},
     "output_type": "execute_result"
    }
   ],
   "source": [
    "lst[6][0]"
   ]
  },
  {
   "cell_type": "code",
   "execution_count": 9,
   "id": "4c4820f9",
   "metadata": {},
   "outputs": [
    {
     "data": {
      "text/plain": [
       "['ab', 'cd', 'de']"
      ]
     },
     "execution_count": 9,
     "metadata": {},
     "output_type": "execute_result"
    }
   ],
   "source": [
    "lst[6][0][0]"
   ]
  },
  {
   "cell_type": "code",
   "execution_count": 10,
   "id": "3fad32fb",
   "metadata": {},
   "outputs": [
    {
     "data": {
      "text/plain": [
       "['cd', 'de']"
      ]
     },
     "execution_count": 10,
     "metadata": {},
     "output_type": "execute_result"
    }
   ],
   "source": [
    "lst[6][0][0][1:3]"
   ]
  },
  {
   "cell_type": "markdown",
   "id": "b81c15be",
   "metadata": {},
   "source": [
    "##### Task-2 Solution"
   ]
  },
  {
   "cell_type": "code",
   "execution_count": 12,
   "id": "2cca54cc",
   "metadata": {},
   "outputs": [],
   "source": [
    "lst1 = [1, 2, 3, 4, 5]\n",
    "lst2 = [\"a\", \"b\", \"c\", \"d\", \"e\"]\n",
    "lst3 = [True, False, True, False, True]"
   ]
  },
  {
   "cell_type": "code",
   "execution_count": 13,
   "id": "d194ac34",
   "metadata": {},
   "outputs": [],
   "source": [
    "lst3.insert(2, lst2)"
   ]
  },
  {
   "cell_type": "code",
   "execution_count": 14,
   "id": "66ff9cf5",
   "metadata": {},
   "outputs": [
    {
     "data": {
      "text/plain": [
       "[True, False, ['a', 'b', 'c', 'd', 'e'], True, False, True]"
      ]
     },
     "execution_count": 14,
     "metadata": {},
     "output_type": "execute_result"
    }
   ],
   "source": [
    "lst3"
   ]
  },
  {
   "cell_type": "code",
   "execution_count": 16,
   "id": "fb7a9515",
   "metadata": {},
   "outputs": [],
   "source": [
    "lst1.insert(0, lst3)"
   ]
  },
  {
   "cell_type": "code",
   "execution_count": 17,
   "id": "a76a1747",
   "metadata": {},
   "outputs": [
    {
     "data": {
      "text/plain": [
       "[[True, False, ['a', 'b', 'c', 'd', 'e'], True, False, True], 1, 2, 3, 4, 5]"
      ]
     },
     "execution_count": 17,
     "metadata": {},
     "output_type": "execute_result"
    }
   ],
   "source": [
    "lst1"
   ]
  },
  {
   "cell_type": "markdown",
   "id": "002789b1",
   "metadata": {},
   "source": [
    "###### Task-3 Solution"
   ]
  },
  {
   "cell_type": "code",
   "execution_count": 19,
   "id": "49892922",
   "metadata": {},
   "outputs": [
    {
     "data": {
      "text/plain": [
       "['a', 'b', 'c', 'd', 'e']"
      ]
     },
     "execution_count": 19,
     "metadata": {},
     "output_type": "execute_result"
    }
   ],
   "source": [
    "lst1[0][2]"
   ]
  },
  {
   "cell_type": "code",
   "execution_count": 20,
   "id": "e4a2cada",
   "metadata": {},
   "outputs": [],
   "source": [
    "var = lst1[0].pop(2)"
   ]
  },
  {
   "cell_type": "code",
   "execution_count": 22,
   "id": "e6fd0edd",
   "metadata": {},
   "outputs": [
    {
     "data": {
      "text/plain": [
       "[[True, False, True, False, True], 1, 2, 3, 4, 5]"
      ]
     },
     "execution_count": 22,
     "metadata": {},
     "output_type": "execute_result"
    }
   ],
   "source": [
    "lst1"
   ]
  },
  {
   "cell_type": "code",
   "execution_count": 23,
   "id": "407514a4",
   "metadata": {},
   "outputs": [
    {
     "data": {
      "text/plain": [
       "['a', 'b', 'c', 'd', 'e']"
      ]
     },
     "execution_count": 23,
     "metadata": {},
     "output_type": "execute_result"
    }
   ],
   "source": [
    "var"
   ]
  },
  {
   "cell_type": "code",
   "execution_count": 25,
   "id": "2c959d1c",
   "metadata": {},
   "outputs": [
    {
     "name": "stdout",
     "output_type": "stream",
     "text": [
      "['a', 'b', 'c', 'd', 'e', 'a', 'b', 'c', 'd', 'e', 'a', 'b', 'c', 'd', 'e', 'a', 'b', 'c', 'd', 'e', 'a', 'b', 'c', 'd', 'e', 'a', 'b', 'c', 'd', 'e', 'a', 'b', 'c', 'd', 'e', 'a', 'b', 'c', 'd', 'e', 'a', 'b', 'c', 'd', 'e', 'a', 'b', 'c', 'd', 'e']\n"
     ]
    }
   ],
   "source": [
    "print(var * 10)"
   ]
  },
  {
   "cell_type": "markdown",
   "id": "845cd754",
   "metadata": {},
   "source": [
    "### Tuple"
   ]
  },
  {
   "cell_type": "code",
   "execution_count": 26,
   "id": "b0fa950c",
   "metadata": {},
   "outputs": [],
   "source": [
    "tup = (\"Bilal\", 5, [1, 2, 3], True)"
   ]
  },
  {
   "cell_type": "code",
   "execution_count": 30,
   "id": "6c1f0289",
   "metadata": {},
   "outputs": [
    {
     "data": {
      "text/plain": [
       "('Bilal', 5, [1, 2, 3])"
      ]
     },
     "execution_count": 30,
     "metadata": {},
     "output_type": "execute_result"
    }
   ],
   "source": [
    "tup[0:3]"
   ]
  },
  {
   "cell_type": "code",
   "execution_count": 32,
   "id": "d986dbe1",
   "metadata": {},
   "outputs": [
    {
     "data": {
      "text/plain": [
       "1"
      ]
     },
     "execution_count": 32,
     "metadata": {},
     "output_type": "execute_result"
    }
   ],
   "source": [
    "tup.count(\"Bilal\")"
   ]
  },
  {
   "cell_type": "code",
   "execution_count": 34,
   "id": "d6bb138d",
   "metadata": {},
   "outputs": [
    {
     "data": {
      "text/plain": [
       "2"
      ]
     },
     "execution_count": 34,
     "metadata": {},
     "output_type": "execute_result"
    }
   ],
   "source": [
    "tup.index([1, 2, 3])"
   ]
  },
  {
   "cell_type": "code",
   "execution_count": 35,
   "id": "ce259ec7",
   "metadata": {},
   "outputs": [],
   "source": [
    "#Question: 1 real life scenario where you use list and 1 for where you use tuple. "
   ]
  },
  {
   "cell_type": "markdown",
   "id": "799231de",
   "metadata": {},
   "source": [
    "### Looping Structures"
   ]
  },
  {
   "cell_type": "code",
   "execution_count": 36,
   "id": "49c28951",
   "metadata": {},
   "outputs": [
    {
     "name": "stdout",
     "output_type": "stream",
     "text": [
      "1\n",
      "2\n",
      "3\n",
      "4\n",
      "5\n"
     ]
    }
   ],
   "source": [
    "print(1)\n",
    "print(2)\n",
    "print(3)\n",
    "print(4)\n",
    "print(5)"
   ]
  },
  {
   "cell_type": "markdown",
   "id": "c1af10bd",
   "metadata": {},
   "source": [
    "#### For Loop "
   ]
  },
  {
   "cell_type": "code",
   "execution_count": 39,
   "id": "c621f3db",
   "metadata": {},
   "outputs": [
    {
     "name": "stdout",
     "output_type": "stream",
     "text": [
      "1\n",
      "2\n",
      "3\n",
      "4\n",
      "5\n"
     ]
    }
   ],
   "source": [
    "for i in range(1, 6):\n",
    "    print(i)"
   ]
  },
  {
   "cell_type": "code",
   "execution_count": 44,
   "id": "59fc3331",
   "metadata": {},
   "outputs": [
    {
     "name": "stdout",
     "output_type": "stream",
     "text": [
      "a\n",
      "b\n",
      "c\n",
      "d\n",
      "e\n"
     ]
    }
   ],
   "source": [
    "for i in range(len(lst2)):\n",
    "    print(lst2[i])"
   ]
  },
  {
   "cell_type": "code",
   "execution_count": 45,
   "id": "d6046ca8",
   "metadata": {},
   "outputs": [
    {
     "name": "stdout",
     "output_type": "stream",
     "text": [
      "a\n",
      "b\n",
      "c\n",
      "d\n",
      "e\n"
     ]
    }
   ],
   "source": [
    "for i in lst2:\n",
    "    print(i)"
   ]
  },
  {
   "cell_type": "code",
   "execution_count": 2,
   "id": "48c7271c",
   "metadata": {},
   "outputs": [
    {
     "name": "stdout",
     "output_type": "stream",
     "text": [
      "[3, 5, 17]\n",
      "----------------------------------\n",
      "[8, 28]\n"
     ]
    }
   ],
   "source": [
    "lst1 = [3, 5, 8, 17, 28]\n",
    "lst2 = []\n",
    "\n",
    "for i in lst1:\n",
    "    if (i % 2) == 0:\n",
    "        lst2.append(i)\n",
    "        lst1.remove(i)\n",
    "        \n",
    "print(lst1)\n",
    "print(\"----------------------------------\")\n",
    "print(lst2)"
   ]
  },
  {
   "cell_type": "markdown",
   "id": "2777e4e7",
   "metadata": {},
   "source": [
    "##### While Loop"
   ]
  },
  {
   "cell_type": "code",
   "execution_count": 3,
   "id": "08e49092",
   "metadata": {},
   "outputs": [
    {
     "name": "stdout",
     "output_type": "stream",
     "text": [
      "[0, 1, 2, 3, 4, 5, 6, 7, 8, 9]\n"
     ]
    }
   ],
   "source": [
    "lst3 = []\n",
    "i = 0\n",
    "\n",
    "while (i < 10):   #Condition is true until i = 10\n",
    "    lst3.append(i)\n",
    "    i += 1\n",
    "\n",
    "print(lst3)"
   ]
  },
  {
   "cell_type": "markdown",
   "id": "9b9e4061",
   "metadata": {},
   "source": [
    "##### While loop with Break Statement"
   ]
  },
  {
   "cell_type": "code",
   "execution_count": 4,
   "id": "bffa5be4",
   "metadata": {},
   "outputs": [
    {
     "name": "stdout",
     "output_type": "stream",
     "text": [
      "Enter name 2: Ali\n",
      "Enter name 2: Alina\n",
      "Enter name 2: Joseph\n",
      "Enter name 2: Bilal\n"
     ]
    }
   ],
   "source": [
    "name = 'Bilal'\n",
    "data = []\n",
    "\n",
    "while (True):   #0: False, 1: True\n",
    "    name2 = str(input(\"Enter name 2: \"))\n",
    "    if (name == name2):\n",
    "        break\n",
    "    else:\n",
    "        data.append(name2)"
   ]
  },
  {
   "cell_type": "code",
   "execution_count": 6,
   "id": "da88c7aa",
   "metadata": {},
   "outputs": [
    {
     "data": {
      "text/plain": [
       "['Ali', 'Alina', 'Joseph']"
      ]
     },
     "execution_count": 6,
     "metadata": {},
     "output_type": "execute_result"
    }
   ],
   "source": [
    "data"
   ]
  },
  {
   "cell_type": "markdown",
   "id": "a443ecb4",
   "metadata": {},
   "source": [
    "##### While Loop with Continue statement"
   ]
  },
  {
   "cell_type": "code",
   "execution_count": 7,
   "id": "9dd53c39",
   "metadata": {},
   "outputs": [
    {
     "name": "stdout",
     "output_type": "stream",
     "text": [
      "Enter name 2: Bilal\n",
      "Enter name 2: Ali\n",
      "Enter name 2: ABC\n",
      "Enter name 2: ABC\n",
      "Enter name 2: ABC\n",
      "Enter name 2: Iqra\n"
     ]
    },
    {
     "ename": "KeyboardInterrupt",
     "evalue": "Interrupted by user",
     "output_type": "error",
     "traceback": [
      "\u001b[1;31m---------------------------------------------------------------------------\u001b[0m",
      "\u001b[1;31mKeyboardInterrupt\u001b[0m                         Traceback (most recent call last)",
      "\u001b[1;32m~\\AppData\\Local\\Temp/ipykernel_1068/1430232088.py\u001b[0m in \u001b[0;36m<module>\u001b[1;34m\u001b[0m\n\u001b[0;32m      3\u001b[0m \u001b[1;33m\u001b[0m\u001b[0m\n\u001b[0;32m      4\u001b[0m \u001b[1;32mwhile\u001b[0m \u001b[1;33m(\u001b[0m\u001b[1;32mTrue\u001b[0m\u001b[1;33m)\u001b[0m\u001b[1;33m:\u001b[0m   \u001b[1;31m#0: False, 1: True\u001b[0m\u001b[1;33m\u001b[0m\u001b[1;33m\u001b[0m\u001b[0m\n\u001b[1;32m----> 5\u001b[1;33m     \u001b[0mname2\u001b[0m \u001b[1;33m=\u001b[0m \u001b[0mstr\u001b[0m\u001b[1;33m(\u001b[0m\u001b[0minput\u001b[0m\u001b[1;33m(\u001b[0m\u001b[1;34m\"Enter name 2: \"\u001b[0m\u001b[1;33m)\u001b[0m\u001b[1;33m)\u001b[0m\u001b[1;33m\u001b[0m\u001b[1;33m\u001b[0m\u001b[0m\n\u001b[0m\u001b[0;32m      6\u001b[0m     \u001b[1;32mif\u001b[0m \u001b[1;33m(\u001b[0m\u001b[0mnaming\u001b[0m \u001b[1;33m==\u001b[0m \u001b[0mname2\u001b[0m\u001b[1;33m)\u001b[0m\u001b[1;33m:\u001b[0m\u001b[1;33m\u001b[0m\u001b[1;33m\u001b[0m\u001b[0m\n\u001b[0;32m      7\u001b[0m         \u001b[1;32mcontinue\u001b[0m\u001b[1;33m\u001b[0m\u001b[1;33m\u001b[0m\u001b[0m\n",
      "\u001b[1;32m~\\anaconda3\\envs\\Bilal\\lib\\site-packages\\ipykernel\\kernelbase.py\u001b[0m in \u001b[0;36mraw_input\u001b[1;34m(self, prompt)\u001b[0m\n\u001b[0;32m   1008\u001b[0m             \u001b[0mself\u001b[0m\u001b[1;33m.\u001b[0m\u001b[0m_parent_ident\u001b[0m\u001b[1;33m[\u001b[0m\u001b[1;34m\"shell\"\u001b[0m\u001b[1;33m]\u001b[0m\u001b[1;33m,\u001b[0m\u001b[1;33m\u001b[0m\u001b[1;33m\u001b[0m\u001b[0m\n\u001b[0;32m   1009\u001b[0m             \u001b[0mself\u001b[0m\u001b[1;33m.\u001b[0m\u001b[0mget_parent\u001b[0m\u001b[1;33m(\u001b[0m\u001b[1;34m\"shell\"\u001b[0m\u001b[1;33m)\u001b[0m\u001b[1;33m,\u001b[0m\u001b[1;33m\u001b[0m\u001b[1;33m\u001b[0m\u001b[0m\n\u001b[1;32m-> 1010\u001b[1;33m             \u001b[0mpassword\u001b[0m\u001b[1;33m=\u001b[0m\u001b[1;32mFalse\u001b[0m\u001b[1;33m,\u001b[0m\u001b[1;33m\u001b[0m\u001b[1;33m\u001b[0m\u001b[0m\n\u001b[0m\u001b[0;32m   1011\u001b[0m         )\n\u001b[0;32m   1012\u001b[0m \u001b[1;33m\u001b[0m\u001b[0m\n",
      "\u001b[1;32m~\\anaconda3\\envs\\Bilal\\lib\\site-packages\\ipykernel\\kernelbase.py\u001b[0m in \u001b[0;36m_input_request\u001b[1;34m(self, prompt, ident, parent, password)\u001b[0m\n\u001b[0;32m   1049\u001b[0m             \u001b[1;32mexcept\u001b[0m \u001b[0mKeyboardInterrupt\u001b[0m\u001b[1;33m:\u001b[0m\u001b[1;33m\u001b[0m\u001b[1;33m\u001b[0m\u001b[0m\n\u001b[0;32m   1050\u001b[0m                 \u001b[1;31m# re-raise KeyboardInterrupt, to truncate traceback\u001b[0m\u001b[1;33m\u001b[0m\u001b[1;33m\u001b[0m\u001b[1;33m\u001b[0m\u001b[0m\n\u001b[1;32m-> 1051\u001b[1;33m                 \u001b[1;32mraise\u001b[0m \u001b[0mKeyboardInterrupt\u001b[0m\u001b[1;33m(\u001b[0m\u001b[1;34m\"Interrupted by user\"\u001b[0m\u001b[1;33m)\u001b[0m \u001b[1;32mfrom\u001b[0m \u001b[1;32mNone\u001b[0m\u001b[1;33m\u001b[0m\u001b[1;33m\u001b[0m\u001b[0m\n\u001b[0m\u001b[0;32m   1052\u001b[0m             \u001b[1;32mexcept\u001b[0m \u001b[0mException\u001b[0m\u001b[1;33m:\u001b[0m\u001b[1;33m\u001b[0m\u001b[1;33m\u001b[0m\u001b[0m\n\u001b[0;32m   1053\u001b[0m                 \u001b[0mself\u001b[0m\u001b[1;33m.\u001b[0m\u001b[0mlog\u001b[0m\u001b[1;33m.\u001b[0m\u001b[0mwarning\u001b[0m\u001b[1;33m(\u001b[0m\u001b[1;34m\"Invalid Message:\"\u001b[0m\u001b[1;33m,\u001b[0m \u001b[0mexc_info\u001b[0m\u001b[1;33m=\u001b[0m\u001b[1;32mTrue\u001b[0m\u001b[1;33m)\u001b[0m\u001b[1;33m\u001b[0m\u001b[1;33m\u001b[0m\u001b[0m\n",
      "\u001b[1;31mKeyboardInterrupt\u001b[0m: Interrupted by user"
     ]
    }
   ],
   "source": [
    "data2 = []\n",
    "naming = 'ABC'\n",
    "\n",
    "while (True):   #0: False, 1: True\n",
    "    name2 = str(input(\"Enter name 2: \"))\n",
    "    if (naming == name2):\n",
    "        continue\n",
    "    else:\n",
    "        data2.append(name2)"
   ]
  },
  {
   "cell_type": "code",
   "execution_count": 8,
   "id": "9bb17c1c",
   "metadata": {},
   "outputs": [
    {
     "data": {
      "text/plain": [
       "['Bilal', 'Ali', 'Iqra']"
      ]
     },
     "execution_count": 8,
     "metadata": {},
     "output_type": "execute_result"
    }
   ],
   "source": [
    "data2"
   ]
  },
  {
   "cell_type": "markdown",
   "id": "dcdee324",
   "metadata": {},
   "source": [
    "## Dictionary"
   ]
  },
  {
   "cell_type": "code",
   "execution_count": null,
   "id": "cff8266d",
   "metadata": {},
   "outputs": [],
   "source": [
    "dictionary = {\"Word\" : \"Meaning\"}\n",
    "               #Key     #Value"
   ]
  },
  {
   "cell_type": "code",
   "execution_count": 9,
   "id": "a57c265b",
   "metadata": {},
   "outputs": [],
   "source": [
    "dictionary = {\"Hungry\" : \"Bhooka/Bhooki\", \"Age\" : 50}"
   ]
  },
  {
   "cell_type": "code",
   "execution_count": 13,
   "id": "744f8773",
   "metadata": {},
   "outputs": [
    {
     "data": {
      "text/plain": [
       "(50, 'Bhooka/Bhooki')"
      ]
     },
     "execution_count": 13,
     "metadata": {},
     "output_type": "execute_result"
    }
   ],
   "source": [
    "dictionary['Age'], dictionary['Hungry']"
   ]
  },
  {
   "cell_type": "code",
   "execution_count": 14,
   "id": "ff6b89f5",
   "metadata": {},
   "outputs": [
    {
     "data": {
      "text/plain": [
       "\" Task: Create a dictionary, in which keys are roll numbers 'ABC-DEF-001'. \\n    Length of your dictionary will be 20. \\n    Values will be the names of students. \\n    Keys must be unique.\\n    If some of the value matches your name, add the value in a list. \\n    Access that value from list and count it's length. \\n    If length's even or odd simply print it. \""
      ]
     },
     "execution_count": 14,
     "metadata": {},
     "output_type": "execute_result"
    }
   ],
   "source": [
    "\"\"\" Task: Create a dictionary, in which keys are roll numbers 'ABC-DEF-001'. \n",
    "    Length of your dictionary will be 20. \n",
    "    Values will be the names of students. \n",
    "    Keys must be unique.\n",
    "    If some of the value matches your name, add the value in a list. \n",
    "    Access that value from list and count it's length. \n",
    "    If length's even or odd simply print it. \"\"\""
   ]
  },
  {
   "cell_type": "code",
   "execution_count": 22,
   "id": "f4554c74",
   "metadata": {},
   "outputs": [
    {
     "name": "stdout",
     "output_type": "stream",
     "text": [
      "[20, 15, 7, 5, 1, 0]\n"
     ]
    }
   ],
   "source": [
    "l = [5, 7, 15, 20, 1, 0]\n",
    "l.sort(reverse=True)\n",
    "print(l)"
   ]
  },
  {
   "cell_type": "code",
   "execution_count": 24,
   "id": "af23d1d6",
   "metadata": {},
   "outputs": [
    {
     "name": "stdout",
     "output_type": "stream",
     "text": [
      "['Ali', 'Bilal', 'Junaid']\n"
     ]
    }
   ],
   "source": [
    "l = [\"Bilal\", \"Ali\", \"Junaid\"]\n",
    "l.sort()\n",
    "print(l)"
   ]
  }
 ],
 "metadata": {
  "kernelspec": {
   "display_name": "Python 3 (ipykernel)",
   "language": "python",
   "name": "python3"
  },
  "language_info": {
   "codemirror_mode": {
    "name": "ipython",
    "version": 3
   },
   "file_extension": ".py",
   "mimetype": "text/x-python",
   "name": "python",
   "nbconvert_exporter": "python",
   "pygments_lexer": "ipython3",
   "version": "3.7.11"
  }
 },
 "nbformat": 4,
 "nbformat_minor": 5
}
