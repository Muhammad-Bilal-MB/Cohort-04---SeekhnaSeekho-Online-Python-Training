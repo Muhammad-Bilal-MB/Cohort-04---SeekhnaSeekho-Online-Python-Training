{
 "cells": [
  {
   "cell_type": "markdown",
   "id": "119a5814",
   "metadata": {},
   "source": [
    "## Conditionals"
   ]
  },
  {
   "cell_type": "markdown",
   "id": "bcf31f85",
   "metadata": {},
   "source": [
    "#### If - else condition"
   ]
  },
  {
   "cell_type": "code",
   "execution_count": 1,
   "id": "3fccd504",
   "metadata": {},
   "outputs": [
    {
     "name": "stdout",
     "output_type": "stream",
     "text": [
      "Theek hai\n",
      "Outside Statement\n"
     ]
    }
   ],
   "source": [
    "if (5 > 3):\n",
    "    print(\"Theek hai\")\n",
    "  \n",
    "print(\"Outside Statement\")"
   ]
  },
  {
   "cell_type": "code",
   "execution_count": 2,
   "id": "8fb1a30a",
   "metadata": {},
   "outputs": [
    {
     "name": "stdout",
     "output_type": "stream",
     "text": [
      "Outside Statement\n"
     ]
    }
   ],
   "source": [
    "if (3 > 5):\n",
    "    print(\"Theek hai\")\n",
    "  \n",
    "print(\"Outside Statement\")"
   ]
  },
  {
   "cell_type": "code",
   "execution_count": 3,
   "id": "7f4c004a",
   "metadata": {},
   "outputs": [
    {
     "name": "stdout",
     "output_type": "stream",
     "text": [
      "If executed\n"
     ]
    }
   ],
   "source": [
    "if (5 > 3):\n",
    "    print(\"If executed\")\n",
    "else:\n",
    "    print(\"Else executed\")"
   ]
  },
  {
   "cell_type": "code",
   "execution_count": 5,
   "id": "a4781b91",
   "metadata": {},
   "outputs": [
    {
     "name": "stdout",
     "output_type": "stream",
     "text": [
      "Else executed\n"
     ]
    }
   ],
   "source": [
    "if (3 > 5):\n",
    "    print(\"If executed\")\n",
    "else:\n",
    "    print(\"Else executed\")"
   ]
  },
  {
   "cell_type": "code",
   "execution_count": 8,
   "id": "f7a27194",
   "metadata": {},
   "outputs": [
    {
     "name": "stdout",
     "output_type": "stream",
     "text": [
      "Enter your city's current temprature: 28\n",
      "It's Moderate\n"
     ]
    }
   ],
   "source": [
    "temperature = float(input(\"Enter your city's current temprature: \"))\n",
    "\n",
    "if (temperature <= 15):\n",
    "    print(\"It's Cold here\")\n",
    "    \n",
    "elif ((temperature > 15) and (temperature <= 30)):\n",
    "    print(\"It's Moderate\")\n",
    "\n",
    "elif ((temperature > 30) and (temperature <= 40)):\n",
    "    print(\"It's Hot\")\n",
    "    \n",
    "else:\n",
    "    print(\"Burning here!\")"
   ]
  },
  {
   "cell_type": "code",
   "execution_count": 12,
   "id": "f3195599",
   "metadata": {},
   "outputs": [
    {
     "name": "stdout",
     "output_type": "stream",
     "text": [
      "Parent print\n",
      "Nested Print\n"
     ]
    }
   ],
   "source": [
    "if (8 > 5):\n",
    "    print(\"Parent print\")\n",
    "    if (6 > 5):\n",
    "        print(\"Nested Print\")"
   ]
  },
  {
   "cell_type": "markdown",
   "id": "3e6d3377",
   "metadata": {},
   "source": [
    "<font color='red'>Task: Perform the same above temperature task with nested if.</font>"
   ]
  },
  {
   "cell_type": "code",
   "execution_count": null,
   "id": "dac8749c",
   "metadata": {},
   "outputs": [],
   "source": []
  },
  {
   "cell_type": "code",
   "execution_count": null,
   "id": "c39a2c6c",
   "metadata": {},
   "outputs": [],
   "source": []
  },
  {
   "cell_type": "code",
   "execution_count": null,
   "id": "79eaaeb1",
   "metadata": {},
   "outputs": [],
   "source": []
  },
  {
   "cell_type": "code",
   "execution_count": null,
   "id": "4693b2fa",
   "metadata": {},
   "outputs": [],
   "source": []
  },
  {
   "cell_type": "code",
   "execution_count": null,
   "id": "43405496",
   "metadata": {},
   "outputs": [],
   "source": []
  }
 ],
 "metadata": {
  "kernelspec": {
   "display_name": "Python 3 (ipykernel)",
   "language": "python",
   "name": "python3"
  },
  "language_info": {
   "codemirror_mode": {
    "name": "ipython",
    "version": 3
   },
   "file_extension": ".py",
   "mimetype": "text/x-python",
   "name": "python",
   "nbconvert_exporter": "python",
   "pygments_lexer": "ipython3",
   "version": "3.7.11"
  }
 },
 "nbformat": 4,
 "nbformat_minor": 5
}
