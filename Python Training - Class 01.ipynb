{
 "cells": [
  {
   "cell_type": "markdown",
   "id": "eb607a1d",
   "metadata": {},
   "source": [
    "# <font color='red'> Cohort 04 - SeekhnaSeekho Online Python Training </font>"
   ]
  },
  {
   "cell_type": "markdown",
   "id": "fb61078e",
   "metadata": {},
   "source": [
    "ctrl + enter (Execute cell and remains in the same cell)"
   ]
  },
  {
   "cell_type": "markdown",
   "id": "440d3d21",
   "metadata": {},
   "source": [
    "shift + enter (Execute cell and moves to the same cell)"
   ]
  },
  {
   "cell_type": "markdown",
   "id": "541dc7ac",
   "metadata": {},
   "source": [
    "shift + tab (Access signature)"
   ]
  },
  {
   "cell_type": "markdown",
   "id": "28692704",
   "metadata": {},
   "source": [
    "## print (Statement or Function, whatever you like)"
   ]
  },
  {
   "cell_type": "code",
   "execution_count": 11,
   "id": "5ae2d32a",
   "metadata": {},
   "outputs": [
    {
     "name": "stdout",
     "output_type": "stream",
     "text": [
      "Bilal *** 567 *** Ali *** ABCD\n"
     ]
    }
   ],
   "source": [
    "print(\"Bilal\"      ,     567 ,      \"Ali\" ,        \"ABCD\", sep=' *** ')"
   ]
  },
  {
   "cell_type": "code",
   "execution_count": 12,
   "id": "9211cf70",
   "metadata": {},
   "outputs": [
    {
     "name": "stdout",
     "output_type": "stream",
     "text": [
      "Bilal 567 Ali ABCD\n"
     ]
    }
   ],
   "source": [
    "print(\"Bilal\" ,  567 , \"Ali\" , \"ABCD\")"
   ]
  },
  {
   "cell_type": "code",
   "execution_count": 15,
   "id": "f6f16a5e",
   "metadata": {},
   "outputs": [
    {
     "name": "stdout",
     "output_type": "stream",
     "text": [
      "Bilal 567 Ali ABCD --- NEW LINE\n",
      "Third Line\n"
     ]
    }
   ],
   "source": [
    "print(\"Bilal\" ,  567 , \"Ali\" , \"ABCD\" , end=' --- ')\n",
    "print('NEW LINE')\n",
    "print('Third Line')"
   ]
  },
  {
   "cell_type": "code",
   "execution_count": null,
   "id": "04945240",
   "metadata": {},
   "outputs": [],
   "source": []
  }
 ],
 "metadata": {
  "kernelspec": {
   "display_name": "Python 3 (ipykernel)",
   "language": "python",
   "name": "python3"
  },
  "language_info": {
   "codemirror_mode": {
    "name": "ipython",
    "version": 3
   },
   "file_extension": ".py",
   "mimetype": "text/x-python",
   "name": "python",
   "nbconvert_exporter": "python",
   "pygments_lexer": "ipython3",
   "version": "3.7.11"
  }
 },
 "nbformat": 4,
 "nbformat_minor": 5
}
